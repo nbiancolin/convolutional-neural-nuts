{
 "cells": [
  {
   "cell_type": "markdown",
   "metadata": {},
   "source": [
    "Load new images"
   ]
  },
  {
   "cell_type": "code",
   "execution_count": 62,
   "metadata": {},
   "outputs": [
    {
     "name": "stdout",
     "output_type": "stream",
     "text": [
      "10\n"
     ]
    }
   ],
   "source": [
    "#Using new_data folder\n",
    "import collections\n",
    "import os\n",
    "data_path = '../NewData/'\n",
    "mapping = collections.defaultdict(list)\n",
    "\n",
    "for genusName in os.listdir(data_path):\n",
    "\n",
    "    for img in os.listdir(os.path.join(data_path, genusName)):\n",
    "        mapping[genusName].append(os.path.join(data_path, genusName, img))\n",
    "\n",
    "print(len(mapping))"
   ]
  },
  {
   "cell_type": "code",
   "execution_count": 48,
   "metadata": {},
   "outputs": [],
   "source": [
    "import pandas as pd\n",
    "import numpy as np\n",
    "mapping_testing = {key: np.array(value) for key, value in mapping.items()}"
   ]
  },
  {
   "cell_type": "markdown",
   "metadata": {},
   "source": [
    "Our small collected sample. Only for visualization"
   ]
  },
  {
   "cell_type": "code",
   "execution_count": 49,
   "metadata": {},
   "outputs": [
    {
     "name": "stdout",
     "output_type": "stream",
     "text": [
      "Class Name: Auricularia, Number of images: 3\n",
      "Class Name: Cookeina, Number of images: 3\n",
      "Class Name: Entoloma, Number of images: 3\n",
      "Class Name: Geastrum, Number of images: 3\n",
      "Class Name: Hygrocybe, Number of images: 2\n",
      "Class Name: Marasmius, Number of images: 2\n",
      "Class Name: Ophiocordyceps, Number of images: 2\n",
      "Class Name: Oudemansiella, Number of images: 3\n",
      "Class Name: Phallus, Number of images: 3\n",
      "Class Name: Trametes, Number of images: 2\n",
      "Total training Images: 26\n"
     ]
    }
   ],
   "source": [
    "totalTestingImg = 0\n",
    "for dictkeys in mapping_testing.keys():\n",
    "    totalCount = len(mapping_testing[dictkeys])\n",
    "\n",
    "    totalTestingImg += len(mapping_testing[dictkeys])\n",
    "\n",
    "    print(f\"Class Name: {dictkeys}, Number of images: {totalCount}\")\n",
    "\n",
    "print(f\"Total training Images: {totalTestingImg}\")"
   ]
  },
  {
   "cell_type": "code",
   "execution_count": 50,
   "metadata": {},
   "outputs": [
    {
     "name": "stderr",
     "output_type": "stream",
     "text": [
      "c:\\Users\\eric7\\AppData\\Local\\Programs\\Python\\Python312\\Lib\\site-packages\\torchvision\\models\\_utils.py:208: UserWarning: The parameter 'pretrained' is deprecated since 0.13 and may be removed in the future, please use 'weights' instead.\n",
      "  warnings.warn(\n",
      "c:\\Users\\eric7\\AppData\\Local\\Programs\\Python\\Python312\\Lib\\site-packages\\torchvision\\models\\_utils.py:223: UserWarning: Arguments other than a weight enum or `None` for 'weights' are deprecated since 0.13 and may be removed in the future. The current behavior is equivalent to passing `weights=AlexNet_Weights.IMAGENET1K_V1`. You can also use `weights=AlexNet_Weights.DEFAULT` to get the most up-to-date weights.\n",
      "  warnings.warn(msg)\n"
     ]
    }
   ],
   "source": [
    "import torch\n",
    "import torch.nn as nn\n",
    "import torch.nn.functional as F\n",
    "import torch.optim as optim\n",
    "from PIL import Image\n",
    "from torch.utils.data import TensorDataset\n",
    "from torchvision import transforms\n",
    "#adjust to 224 dimension (input to alexnet)\n",
    "transform = transforms.Compose([transforms.ToTensor(), transforms.Resize((224,224))])\n",
    "import torchvision.models\n",
    "alexnet = torchvision.models.alexnet(pretrained=True)\n",
    "numClasses = len(mapping_testing)"
   ]
  },
  {
   "cell_type": "markdown",
   "metadata": {},
   "source": [
    "Same as transferLearningTensor.ipynb.  Run all images through alexnet which outputs a tensor"
   ]
  },
  {
   "cell_type": "code",
   "execution_count": 51,
   "metadata": {},
   "outputs": [],
   "source": [
    "def transferLearning(mapping):\n",
    "    dict = {}\n",
    "    print(f\"Total number of classes {numClasses}\")\n",
    "    print(\"Start Transfer Learning Section: AlexNet feature extract for each class\")\n",
    "    iterCount = 1\n",
    "\n",
    "    for key, images in mapping.items():\n",
    "        print(f\"Class {iterCount} out of {numClasses}\")\n",
    "        dict[key] = []\n",
    "        for img in images:\n",
    "            newImg = Image.open(img)\n",
    "            newImg = transform(newImg)\n",
    "            feat = alexnet.features(newImg)\n",
    "            dict[key].append(feat)\n",
    "        iterCount += 1\n",
    "    return dict"
   ]
  },
  {
   "cell_type": "code",
   "execution_count": 52,
   "metadata": {},
   "outputs": [
    {
     "name": "stdout",
     "output_type": "stream",
     "text": [
      "Total number of classes 10\n",
      "Start Transfer Learning Section: AlexNet feature extract for each class\n",
      "Class 1 out of 10\n",
      "Class 2 out of 10\n",
      "Class 3 out of 10\n",
      "Class 4 out of 10\n",
      "Class 5 out of 10\n",
      "Class 6 out of 10\n",
      "Class 7 out of 10\n",
      "Class 8 out of 10\n",
      "Class 9 out of 10\n",
      "Class 10 out of 10\n"
     ]
    }
   ],
   "source": [
    "testing_dict = transferLearning(mapping_testing)"
   ]
  },
  {
   "cell_type": "code",
   "execution_count": 53,
   "metadata": {},
   "outputs": [],
   "source": [
    "testDict = {}"
   ]
  },
  {
   "cell_type": "code",
   "execution_count": 54,
   "metadata": {},
   "outputs": [],
   "source": [
    "#make sure we have the same mapping as previously trained model\n",
    "import pickle \n",
    "with open('mapping.pkl', 'rb') as file:\n",
    "    mappingDict = pickle.load(file)\n",
    "\n",
    "testDict = collections.defaultdict(list)\n",
    "for idx, keyName in mappingDict.items():\n",
    "    testDict[idx] = testing_dict[keyName]"
   ]
  },
  {
   "cell_type": "markdown",
   "metadata": {},
   "source": []
  },
  {
   "cell_type": "code",
   "execution_count": 55,
   "metadata": {},
   "outputs": [],
   "source": [
    "testingData, testingLabel = [], []\n",
    "\n",
    "for key, values in testDict.items():\n",
    "    #Make the array the size of values\n",
    "    testingLabel.extend([key] * len(values))\n",
    "    testingData.extend(values)\n",
    "testingTensor = torch.stack(testingData)\n",
    "testingLabelTensor = torch.tensor(testingLabel)\n",
    "test_set = TensorDataset(testingTensor, testingLabelTensor)"
   ]
  },
  {
   "cell_type": "code",
   "execution_count": 56,
   "metadata": {},
   "outputs": [
    {
     "name": "stdout",
     "output_type": "stream",
     "text": [
      "length of test set: 26\n"
     ]
    }
   ],
   "source": [
    "print(f'length of test set: {len(test_set)}')"
   ]
  },
  {
   "cell_type": "code",
   "execution_count": 57,
   "metadata": {},
   "outputs": [],
   "source": [
    "#save the test set (just in case)\n",
    "torch.save(test_set, 'NewTestSet.pt')"
   ]
  },
  {
   "cell_type": "code",
   "execution_count": 58,
   "metadata": {},
   "outputs": [],
   "source": [
    "#Same function as trainModel.ipynb\n",
    "def getAccuracy(net, loader):\n",
    "  correct, count = 0, 0\n",
    "  net.eval()\n",
    "  #no gradient modification\n",
    "  with torch.no_grad():\n",
    "    print(\"Total number of batches: \", len(loader))\n",
    "    for currbatch, (i, corr) in enumerate(loader):\n",
    "      count += corr.shape[0]\n",
    "\n",
    "      correct += (torch.max(net(i), 1)[1] == corr).sum().item()\n",
    "\n",
    "  return correct / count"
   ]
  },
  {
   "cell_type": "markdown",
   "metadata": {},
   "source": [
    "Same NN structure as trainModel.ipynb"
   ]
  },
  {
   "cell_type": "code",
   "execution_count": 59,
   "metadata": {},
   "outputs": [],
   "source": [
    "n = 10\n",
    "\n",
    "class preLearnedFungaV1(nn.Module):\n",
    "    def __init__(self):\n",
    "        super(preLearnedFungaV1, self).__init__()\n",
    "        self.name = \"fungaV1\"\n",
    "        #added anther convolution channel before fc layers\n",
    "        self.conv1 = nn.Conv2d(256, 128, 3, 1, 1)\n",
    "        self.fc1 = nn.Linear(128*6*6, 256)\n",
    "        self.fc2 = nn.Linear(256, 128)\n",
    "        self.fc3 = nn.Linear(128, n)\n",
    "\n",
    "        #dropout implementation\n",
    "        self.dropout1 = nn.Dropout(0.1)\n",
    "        self.dropout2 = nn.Dropout(0.1)\n",
    "        self.dropout3 = nn.Dropout(0.1)\n",
    "        self.dropout4 = nn.Dropout(0.1)\n",
    "\n",
    "    def forward(self, x):\n",
    "        x = self.conv1(x)\n",
    "        x = F.relu(x)\n",
    "        x = self.dropout1(x)\n",
    "        x = x.view(x.size(0), -1)\n",
    "\n",
    "        #FC layers\n",
    "        x = self.dropout2(x)\n",
    "        x = F.relu(self.fc1(x))\n",
    "        \n",
    "        x = self.dropout3(x)\n",
    "        x = F.relu(self.fc2(x))\n",
    "\n",
    "\n",
    "        x = self.dropout4(x)\n",
    "        x = self.fc3(x)\n",
    "        x = x.squeeze(1)  \n",
    "        return x"
   ]
  },
  {
   "cell_type": "code",
   "execution_count": 60,
   "metadata": {},
   "outputs": [],
   "source": [
    "def customDataLoader(batchsize):\n",
    "    testing_load = torch.utils.data.DataLoader(test_set, batch_size = batchsize)\n",
    "    return testing_load"
   ]
  },
  {
   "cell_type": "code",
   "execution_count": 61,
   "metadata": {},
   "outputs": [
    {
     "name": "stdout",
     "output_type": "stream",
     "text": [
      "Total number of batches:  1\n",
      "Test Classification Accuracy:  0.6538461538461539\n"
     ]
    }
   ],
   "source": [
    "bestNet = preLearnedFungaV1()\n",
    "#model name\n",
    "def get_model_name(name, batch_size, lr, epoch):\n",
    "    path = \"modelStorage/model_{0}_bs{1}_lr{2}_epoch{3}\".format(name, batch_size, lr, epoch)\n",
    "    return path\n",
    "BATCH_SIZE = 64\n",
    "LEARNING_RATE = 0.0006\n",
    "EPOCH = 90\n",
    "model_path = get_model_name(\"fungaV1\", batch_size=BATCH_SIZE, lr=LEARNING_RATE, epoch=EPOCH)\n",
    "state = torch.load(model_path)\n",
    "bestNet.load_state_dict(state)\n",
    "\n",
    "testLoad = customDataLoader(100)\n",
    "\n",
    "dataLoad = testLoad\n",
    "\n",
    "bestNet.eval\n",
    "\n",
    "accuracy = getAccuracy(bestNet, dataLoad)\n",
    "print(\"Test Classification Accuracy: \", accuracy)"
   ]
  }
 ],
 "metadata": {
  "kernelspec": {
   "display_name": "Python 3",
   "language": "python",
   "name": "python3"
  },
  "language_info": {
   "codemirror_mode": {
    "name": "ipython",
    "version": 3
   },
   "file_extension": ".py",
   "mimetype": "text/x-python",
   "name": "python",
   "nbconvert_exporter": "python",
   "pygments_lexer": "ipython3",
   "version": "3.12.1"
  }
 },
 "nbformat": 4,
 "nbformat_minor": 2
}

{
 "cells": [
  {
   "cell_type": "code",
   "execution_count": 1,
   "metadata": {},
   "outputs": [],
   "source": [
    "import pandas as pd\n",
    "import numpy as np\n"
   ]
  },
  {
   "cell_type": "markdown",
   "metadata": {},
   "source": [
    "Retrieve CSV files"
   ]
  },
  {
   "cell_type": "code",
   "execution_count": 2,
   "metadata": {},
   "outputs": [
    {
     "name": "stdout",
     "output_type": "stream",
     "text": [
      "successfully retrieved all csv files\n"
     ]
    }
   ],
   "source": [
    "df_train = pd.read_csv(\"../data/set_train.csv\")\n",
    "df_validation = pd.read_csv(\"../data/set_validation.csv\")\n",
    "df_test = pd.read_csv(\"../data/set_test.csv\")\n",
    "print(\"successfully retrieved all csv files\")"
   ]
  },
  {
   "cell_type": "code",
   "execution_count": 3,
   "metadata": {},
   "outputs": [],
   "source": [
    "#Create mapper for all 3 csv files\n",
    "grouped_training = df_train.groupby('Genus')['Path'].apply(list).to_dict()\n",
    "mapping_training = {key: np.array(value) for key, value in grouped_training.items()}\n",
    "\n",
    "grouped_validation = df_validation.groupby('Genus')['Path'].apply(list).to_dict()\n",
    "mapping_validation = {key: np.array(value) for key, value in grouped_validation.items()}\n",
    "\n",
    "grouped_testing = df_test.groupby('Genus')['Path'].apply(list).to_dict()\n",
    "mapping_testing = {key: np.array(value) for key, value in grouped_testing.items()}"
   ]
  },
  {
   "cell_type": "code",
   "execution_count": 6,
   "metadata": {},
   "outputs": [
    {
     "name": "stdout",
     "output_type": "stream",
     "text": [
      "Class Name: Cookeina tricholoma, Number of images: 1703\n",
      "Class Name: Coprinellus disseminatus, Number of images: 918\n",
      "Class Name: Cyathus sp, Number of images: 878\n",
      "Class Name: Filoboletus gracilis, Number of images: 783\n",
      "Class Name: Hygrocybe trinitensis complexo, Number of images: 919\n",
      "Class Name: Marasmius amazonicus, Number of images: 2862\n",
      "Class Name: Oudemansiella cubensis, Number of images: 984\n",
      "Class Name: Phallus indusiatus complex, Number of images: 1334\n",
      "Class Name: Pycnoporus sanguineus, Number of images: 957\n",
      "Class Name: Schizophyllum commune, Number of images: 1014\n"
     ]
    },
    {
     "ename": "",
     "evalue": "",
     "output_type": "error",
     "traceback": [
      "\u001b[1;31mThe Kernel crashed while executing code in the current cell or a previous cell. \n",
      "\u001b[1;31mPlease review the code in the cell(s) to identify a possible cause of the failure. \n",
      "\u001b[1;31mClick <a href='https://aka.ms/vscodeJupyterKernelCrash'>here</a> for more info. \n",
      "\u001b[1;31mView Jupyter <a href='command:jupyter.viewOutput'>log</a> for further details."
     ]
    },
    {
     "ename": "",
     "evalue": "",
     "output_type": "error",
     "traceback": [
      "\u001b[1;31mFailed to restart the Kernel. \n",
      "\u001b[1;31mTraceback (most recent call last):\n",
      "\u001b[1;31m  File \"<frozen runpy>\", line 198, in _run_module_as_main\n",
      "\u001b[1;31m  File \"<frozen runpy>\", line 88, in _run_code\n",
      "\u001b[1;31m  File \"C:\\Users\\eric7\\AppData\\Roaming\\Python\\Python312\\site-packages\\ipykernel_launcher.py\", line 18, in <module>\n",
      "\u001b[1;31m    app.launch_new_instance()\n",
      "\u001b[1;31m  File \"C:\\Users\\eric7\\AppData\\Roaming\\Python\\Python312\\site-packages\\traitlets\\config\\application.py\", line 1075, in launch_instance\n",
      "\u001b[1;31m    app.start()\n",
      "\u001b[1;31m  File \"C:\\Users\\eric7\\AppData\\Roaming\\Python\\Python312\\site-packages\\ipykernel\\kernelapp.py\", line 726, in start\n",
      "\u001b[1;31m    self.kernel.start()\n",
      "\u001b[1;31m  File \"C:\\Users\\eric7\\AppData\\Roaming\\Python\\Python312\\site-packages\\ipykernel\\ipkernel.py\", line 240, in start\n",
      "\u001b[1;31m    super().start()\n",
      "\u001b[1;31m  File \"C:\\Users\\eric7\\AppData\\Roaming\\Python\\Python312\\site-packages\\ipykernel\\kernelbase.py\", line 583, in start\n",
      "\u001b[1;31m    asyncio.run_coroutine_threadsafe(self.poll_control_queue(), control_loop.asyncio_loop)\n",
      "\u001b[1;31m  File \"c:\\Users\\eric7\\AppData\\Local\\Programs\\Python\\Python312\\Lib\\asyncio\\tasks.py\", line 950, in run_coroutine_threadsafe\n",
      "\u001b[1;31m    loop.call_soon_threadsafe(callback)\n",
      "\u001b[1;31m  File \"c:\\Users\\eric7\\AppData\\Local\\Programs\\Python\\Python312\\Lib\\asyncio\\base_events.py\", line 837, in call_soon_threadsafe\n",
      "\u001b[1;31m    self._check_closed()\n",
      "\u001b[1;31m  File \"c:\\Users\\eric7\\AppData\\Local\\Programs\\Python\\Python312\\Lib\\asyncio\\base_events.py\", line 539, in _check_closed\n",
      "\u001b[1;31m    raise RuntimeError('Event loop is closed')\n",
      "\u001b[1;31mRuntimeError: Event loop is closed\n",
      "\u001b[1;31msys:1: RuntimeWarning: coroutine 'Kernel.poll_control_queue' was never awaited. \n",
      "\u001b[1;31mView Jupyter <a href='command:jupyter.viewOutput'>log</a> for further details."
     ]
    }
   ],
   "source": [
    "#all 10 classes are evenly distributed in train/validation/testing\n",
    "#Seperating data before augmentation ensure same image wont appear in 2 tensor sets\n",
    "totalTrainingImg, totalValImg, totalTestImg = 0, 0, 0\n",
    "for dictkeys in mapping_training.keys():\n",
    "    totalCount = len(mapping_training[dictkeys]) + len(mapping_validation[dictkeys])\n",
    "    totalCount += len( mapping_testing[dictkeys])\n",
    "\n",
    "    totalTrainingImg += len(mapping_training[dictkeys])\n",
    "    totalValImg += len(mapping_validation[dictkeys])\n",
    "    totalTestImg += len( mapping_testing[dictkeys])\n",
    "\n",
    "    print(f\"Class Name: {dictkeys}, Number of images: {totalCount}\")\n",
    "\n",
    "print(f\"Total training Images: {totalTrainingImg}\")\n",
    "print(f\"Total validation Images: {totalValImg}\")\n",
    "print(f\"Total testing Images: {totalTestImg}\")"
   ]
  },
  {
   "cell_type": "code",
   "execution_count": null,
   "metadata": {},
   "outputs": [],
   "source": []
  }
 ],
 "metadata": {
  "kernelspec": {
   "display_name": "Python 3",
   "language": "python",
   "name": "python3"
  },
  "language_info": {
   "codemirror_mode": {
    "name": "ipython",
    "version": 3
   },
   "file_extension": ".py",
   "mimetype": "text/x-python",
   "name": "python",
   "nbconvert_exporter": "python",
   "pygments_lexer": "ipython3",
   "version": "3.12.1"
  }
 },
 "nbformat": 4,
 "nbformat_minor": 2
}

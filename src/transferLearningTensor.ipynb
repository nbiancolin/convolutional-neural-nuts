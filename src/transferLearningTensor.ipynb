{
 "cells": [
  {
   "cell_type": "code",
   "execution_count": 1,
   "metadata": {},
   "outputs": [],
   "source": [
    "import pandas as pd\n",
    "import numpy as np\n"
   ]
  },
  {
   "cell_type": "markdown",
   "metadata": {},
   "source": [
    "Retrieve CSV files"
   ]
  },
  {
   "cell_type": "code",
   "execution_count": 2,
   "metadata": {},
   "outputs": [
    {
     "name": "stdout",
     "output_type": "stream",
     "text": [
      "successfully retrieved all csv files\n"
     ]
    }
   ],
   "source": [
    "df_train = pd.read_csv(\"../data/set_train.csv\")\n",
    "df_validation = pd.read_csv(\"../data/set_validation.csv\")\n",
    "df_test = pd.read_csv(\"../data/set_test.csv\")\n",
    "print(\"successfully retrieved all csv files\")"
   ]
  },
  {
   "cell_type": "code",
   "execution_count": 3,
   "metadata": {},
   "outputs": [],
   "source": [
    "#Create mapper for all 3 csv files\n",
    "grouped_training = df_train.groupby('Genus')['Path'].apply(list).to_dict()\n",
    "mapping_training = {key: np.array(value) for key, value in grouped_training.items()}\n",
    "\n",
    "grouped_validation = df_validation.groupby('Genus')['Path'].apply(list).to_dict()\n",
    "mapping_validation = {key: np.array(value) for key, value in grouped_validation.items()}\n",
    "\n",
    "grouped_testing = df_test.groupby('Genus')['Path'].apply(list).to_dict()\n",
    "mapping_testing = {key: np.array(value) for key, value in grouped_testing.items()}"
   ]
  },
  {
   "cell_type": "code",
   "execution_count": 4,
   "metadata": {},
   "outputs": [
    {
     "name": "stdout",
     "output_type": "stream",
     "text": [
      "Class Name: Auricularia, Number of images: 1559\n",
      "Class Name: Cookeina, Number of images: 2885\n",
      "Class Name: Entoloma, Number of images: 1944\n",
      "Class Name: Geastrum, Number of images: 1390\n",
      "Class Name: Hygrocybe, Number of images: 3919\n",
      "Class Name: Marasmius, Number of images: 4494\n",
      "Class Name: Ophiocordyceps, Number of images: 1943\n",
      "Class Name: Oudemansiella, Number of images: 1870\n",
      "Class Name: Phallus, Number of images: 1383\n",
      "Class Name: Trametes, Number of images: 1278\n",
      "Total training Images: 16962\n",
      "Total validation Images: 3379\n",
      "Total testing Images: 2324\n"
     ]
    }
   ],
   "source": [
    "#all 10 classes are evenly distributed in train/validation/testing\n",
    "#Seperating data before augmentation ensure same image wont appear in 2 tensor sets\n",
    "totalTrainingImg, totalValImg, totalTestImg = 0, 0, 0\n",
    "for dictkeys in mapping_training.keys():\n",
    "    totalCount = len(mapping_training[dictkeys]) + len(mapping_validation[dictkeys])\n",
    "    totalCount += len( mapping_testing[dictkeys])\n",
    "\n",
    "    totalTrainingImg += len(mapping_training[dictkeys])\n",
    "    totalValImg += len(mapping_validation[dictkeys])\n",
    "    totalTestImg += len( mapping_testing[dictkeys])\n",
    "\n",
    "    print(f\"Class Name: {dictkeys}, Number of images: {totalCount}\")\n",
    "\n",
    "print(f\"Total training Images: {totalTrainingImg}\")\n",
    "print(f\"Total validation Images: {totalValImg}\")\n",
    "print(f\"Total testing Images: {totalTestImg}\")"
   ]
  },
  {
   "cell_type": "code",
   "execution_count": 5,
   "metadata": {},
   "outputs": [],
   "source": [
    "import numpy as np\n",
    "import torch\n",
    "import torch.nn as nn\n",
    "import torch.nn.functional as F\n",
    "import torch.optim as optim\n",
    "from PIL import Image"
   ]
  },
  {
   "cell_type": "code",
   "execution_count": 6,
   "metadata": {},
   "outputs": [],
   "source": [
    "#need to install torchvision\n",
    "from torch.utils.data import TensorDataset\n",
    "from torchvision import transforms\n",
    "#adjust to 224 dimension (input to alexnet)\n",
    "transform = transforms.Compose([transforms.ToTensor(), transforms.Resize((224,224))])"
   ]
  },
  {
   "cell_type": "code",
   "execution_count": 7,
   "metadata": {},
   "outputs": [
    {
     "name": "stderr",
     "output_type": "stream",
     "text": [
      "c:\\Users\\eric7\\AppData\\Local\\Programs\\Python\\Python312\\Lib\\site-packages\\torchvision\\models\\_utils.py:208: UserWarning: The parameter 'pretrained' is deprecated since 0.13 and may be removed in the future, please use 'weights' instead.\n",
      "  warnings.warn(\n",
      "c:\\Users\\eric7\\AppData\\Local\\Programs\\Python\\Python312\\Lib\\site-packages\\torchvision\\models\\_utils.py:223: UserWarning: Arguments other than a weight enum or `None` for 'weights' are deprecated since 0.13 and may be removed in the future. The current behavior is equivalent to passing `weights=AlexNet_Weights.IMAGENET1K_V1`. You can also use `weights=AlexNet_Weights.DEFAULT` to get the most up-to-date weights.\n",
      "  warnings.warn(msg)\n"
     ]
    }
   ],
   "source": [
    "#use alexnet\n",
    "import torchvision.models\n",
    "alexnet = torchvision.models.alexnet(pretrained=True)"
   ]
  },
  {
   "cell_type": "code",
   "execution_count": 8,
   "metadata": {},
   "outputs": [],
   "source": [
    "numClasses = len(mapping_training)"
   ]
  },
  {
   "cell_type": "code",
   "execution_count": 9,
   "metadata": {},
   "outputs": [],
   "source": [
    "def transferLearning(mapping):\n",
    "    dict = {}\n",
    "    print(f\"Total number of classes {numClasses}\")\n",
    "    print(\"Start Transfer Learning Section: AlexNet feature extract for each class\")\n",
    "    iterCount = 1\n",
    "\n",
    "    for key, images in mapping.items():\n",
    "        print(f\"Class {iterCount} out of {numClasses}\")\n",
    "        dict[key] = []\n",
    "        for img in images:\n",
    "            newImg = Image.open(img)\n",
    "            newImg = transform(newImg)\n",
    "            feat = alexnet.features(newImg)\n",
    "            dict[key].append(feat)\n",
    "        iterCount += 1\n",
    "    return dict"
   ]
  },
  {
   "cell_type": "code",
   "execution_count": 10,
   "metadata": {},
   "outputs": [
    {
     "name": "stdout",
     "output_type": "stream",
     "text": [
      "Total number of classes 10\n",
      "Start Transfer Learning Section: AlexNet feature extract for each class\n",
      "Class 1 out of 10\n",
      "Class 2 out of 10\n",
      "Class 3 out of 10\n",
      "Class 4 out of 10\n",
      "Class 5 out of 10\n",
      "Class 6 out of 10\n",
      "Class 7 out of 10\n",
      "Class 8 out of 10\n",
      "Class 9 out of 10\n",
      "Class 10 out of 10\n",
      "Total number of classes 10\n",
      "Start Transfer Learning Section: AlexNet feature extract for each class\n",
      "Class 1 out of 10\n",
      "Class 2 out of 10\n",
      "Class 3 out of 10\n",
      "Class 4 out of 10\n",
      "Class 5 out of 10\n",
      "Class 6 out of 10\n",
      "Class 7 out of 10\n",
      "Class 8 out of 10\n",
      "Class 9 out of 10\n",
      "Class 10 out of 10\n",
      "Total number of classes 10\n",
      "Start Transfer Learning Section: AlexNet feature extract for each class\n",
      "Class 1 out of 10\n",
      "Class 2 out of 10\n",
      "Class 3 out of 10\n",
      "Class 4 out of 10\n",
      "Class 5 out of 10\n",
      "Class 6 out of 10\n",
      "Class 7 out of 10\n",
      "Class 8 out of 10\n",
      "Class 9 out of 10\n",
      "Class 10 out of 10\n"
     ]
    }
   ],
   "source": [
    "training_dict = transferLearning(mapping_training)\n",
    "validation_dict = transferLearning(mapping_validation)\n",
    "testing_dict = transferLearning(mapping_testing)"
   ]
  },
  {
   "cell_type": "markdown",
   "metadata": {},
   "source": [
    "#The mapping across all 3 dictionaries is the same\n",
    "#Same the conversion dictionaries for qualitative results"
   ]
  },
  {
   "cell_type": "code",
   "execution_count": 11,
   "metadata": {},
   "outputs": [],
   "source": [
    "mapping = {}\n",
    "\n",
    "train_numericalDict = {}\n",
    "for idx, (key, value) in enumerate(training_dict.items()):\n",
    "    train_numericalDict[idx] = value\n",
    "    mapping[idx] = key\n",
    "\n",
    "validation_numericalDict = {}\n",
    "for idx, (key, value) in enumerate(validation_dict.items()):\n",
    "    validation_numericalDict[idx] = value\n",
    "\n",
    "test_numericalDict = {}\n",
    "for idx, (key, value) in enumerate(testing_dict.items()):\n",
    "    test_numericalDict[idx] = value"
   ]
  },
  {
   "cell_type": "code",
   "execution_count": 13,
   "metadata": {},
   "outputs": [],
   "source": [
    "# Split data into training, validation, and testing sets\n",
    "tData, tLabel = [], []\n",
    "vData, vLabel = [], []\n",
    "testingData, testingLabel = [], []\n",
    "\n",
    "#Training\n",
    "for key, values in train_numericalDict.items():\n",
    "    tLabel.extend([key] * len(values))\n",
    "    tData.extend(values)\n",
    "tTensor = torch.stack(tData)\n",
    "tLabelTensor = torch.tensor(tLabel)\n",
    "\n",
    "\n",
    "#Validation\n",
    "for key, values in validation_numericalDict.items():\n",
    "    vLabel.extend([key] * len(values))\n",
    "    vData.extend(values)\n",
    "vTensor = torch.stack(vData)\n",
    "vLabelTensor = torch.tensor(vLabel)\n",
    "\n",
    "\n",
    "#Testing\n",
    "for key, values in test_numericalDict.items():\n",
    "    testingLabel.extend([key] * len(values))\n",
    "    testingData.extend(values)\n",
    "testingTensor = torch.stack(testingData)\n",
    "testingLabelTensor = torch.tensor(testingLabel)\n",
    "\n",
    "train_set = TensorDataset(tTensor, tLabelTensor)\n",
    "validation_set = TensorDataset(vTensor, vLabelTensor)\n",
    "test_set = TensorDataset(testingTensor, testingLabelTensor)"
   ]
  },
  {
   "cell_type": "code",
   "execution_count": 14,
   "metadata": {},
   "outputs": [
    {
     "name": "stdout",
     "output_type": "stream",
     "text": [
      "tTensor shape: torch.Size([16962, 256, 6, 6])\n",
      "vTensor shape: torch.Size([3379, 256, 6, 6])\n",
      "testingTensor shape: torch.Size([2324, 256, 6, 6])\n"
     ]
    }
   ],
   "source": [
    "print(f'tTensor shape: {tTensor.shape}')\n",
    "print(f'vTensor shape: {vTensor.shape}')\n",
    "print(f'testingTensor shape: {testingTensor.shape}')"
   ]
  },
  {
   "cell_type": "code",
   "execution_count": 15,
   "metadata": {},
   "outputs": [
    {
     "name": "stdout",
     "output_type": "stream",
     "text": [
      "16962\n",
      "3379\n",
      "2324\n"
     ]
    }
   ],
   "source": [
    "#testing if train, validation, and test sets work\n",
    "print(len(train_set))\n",
    "print(len(validation_set))\n",
    "print(len(test_set))"
   ]
  },
  {
   "cell_type": "code",
   "execution_count": 16,
   "metadata": {},
   "outputs": [],
   "source": [
    "#save the pt files\n",
    "torch.save(train_set, 'Btrain_set.pt')\n",
    "torch.save(validation_set, 'Bvalidation_set.pt')\n",
    "torch.save(test_set, 'Btest_set.pt')"
   ]
  },
  {
   "cell_type": "code",
   "execution_count": 12,
   "metadata": {},
   "outputs": [],
   "source": [
    "#save dictionary mapper\n",
    "import pickle\n",
    "with open('mapping.pkl', 'wb') as file:\n",
    "    pickle.dump(mapping, file)"
   ]
  },
  {
   "cell_type": "markdown",
   "metadata": {},
   "source": [
    "^Might need a citation for the pickle thing"
   ]
  }
 ],
 "metadata": {
  "kernelspec": {
   "display_name": "Python 3",
   "language": "python",
   "name": "python3"
  },
  "language_info": {
   "codemirror_mode": {
    "name": "ipython",
    "version": 3
   },
   "file_extension": ".py",
   "mimetype": "text/x-python",
   "name": "python",
   "nbconvert_exporter": "python",
   "pygments_lexer": "ipython3",
   "version": "3.12.1"
  }
 },
 "nbformat": 4,
 "nbformat_minor": 2
}

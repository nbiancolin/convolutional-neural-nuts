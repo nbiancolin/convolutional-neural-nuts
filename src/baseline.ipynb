{
 "cells": [
  {
   "metadata": {},
   "cell_type": "markdown",
   "source": [
    "# Baseline model\n",
    "As mentioned in our project proposal, our baseline model will be a random forest classifier trained with scikit-learn."
   ],
   "id": "e55689c3cce2fa00"
  },
  {
   "cell_type": "code",
   "id": "initial_id",
   "metadata": {
    "collapsed": true,
    "ExecuteTime": {
     "end_time": "2024-07-03T21:22:55.938Z",
     "start_time": "2024-07-03T21:22:55.911167Z"
    }
   },
   "source": [
    "# package imports\n",
    "import numpy as np\n",
    "import matplotlib.pyplot as plt\n",
    "import pickle\n",
    "import joblib\n",
    "\n",
    "from skimage.io import imread\n",
    "from skimage.transform import resize, rescale\n",
    "\n",
    "# need pip install sklearn\n",
    "try: # x86-64 specific sklearn acceleration, assume intelex=2023.3, sklearn=1.4\n",
    "    from sklearnex import patch_sklearn\n",
    "    patch_sklearn()\n",
    "except (AttributeError, ModuleNotFoundError) as e:\n",
    "    print('x86 patch error, defaulting to regular sklearn')\n",
    "import sklearn\n",
    "from sklearn.ensemble import RandomForestClassifier\n",
    "from sklearn.model_selection import train_test_split\n",
    "from sklearn.metrics import accuracy_score, classification_report\n",
    "\n",
    "try: # CUDA-specific install if running on Colab\n",
    "    %load_ext cudf.pandas\n",
    "except ModuleNotFoundError:\n",
    "    print('CuDF not installed, defaulting to regular pandas')\n",
    "import pandas as pd"
   ],
   "outputs": [
    {
     "name": "stdout",
     "output_type": "stream",
     "text": [
      "CuDF not installed, defaulting to regular pandas\n"
     ]
    },
    {
     "name": "stderr",
     "output_type": "stream",
     "text": [
      "Intel(R) Extension for Scikit-learn* enabled (https://github.com/intel/scikit-learn-intelex)\n"
     ]
    }
   ],
   "execution_count": 18
  },
  {
   "cell_type": "markdown",
   "id": "18641f7f30657fdf",
   "metadata": {},
   "source": "## Data loading and preparation"
  },
  {
   "cell_type": "code",
   "id": "2d5c3d324cf8e0ba",
   "metadata": {
    "ExecuteTime": {
     "end_time": "2024-07-03T21:41:59.313435Z",
     "start_time": "2024-07-03T21:41:52.827050Z"
    }
   },
   "source": [
    "# load Pickle object and get a sense of what we're working with\n",
    "images = joblib.load('../data/set.pkl')\n",
    "labels = np.unique(images['Genus'])\n",
    "print('keys: ', images.keys())\n",
    "print('labels: ', labels)"
   ],
   "outputs": [
    {
     "name": "stdout",
     "output_type": "stream",
     "text": [
      "keys:  Index(['Path', 'Genus', 'Image'], dtype='object')\n",
      "labels:  ['Auricularia' 'Cookeina' 'Entoloma' 'Fomitiporia' 'Geastrum' 'Hygrocybe'\n",
      " 'Hymenochaete' 'Marasmius' 'Ophiocordyceps' 'Oudemansiella' 'Phallus'\n",
      " 'Pluteus' 'Schizophyllum' 'Trametes' 'Xylaria']\n"
     ]
    }
   ],
   "execution_count": 22
  },
  {
   "metadata": {
    "ExecuteTime": {
     "end_time": "2024-07-03T21:45:15.588512Z",
     "start_time": "2024-07-03T21:45:14.218064Z"
    }
   },
   "cell_type": "code",
   "source": [
    "# TODO: make this work lmao\n",
    "# randomly display one instance of each class\n",
    "fig, axes = plt.subplots(nrows=3, ncols=5)\n",
    "fig.tight_layout()"
   ],
   "id": "864ddae0ff8314d9",
   "outputs": [
    {
     "data": {
      "text/plain": [
       "<Figure size 640x480 with 15 Axes>"
      ],
      "image/png": "[encoded data removed]"
     },
     "metadata": {},
     "output_type": "display_data"
    }
   ],
   "execution_count": 25
  },
  {
   "metadata": {},
   "cell_type": "code",
   "outputs": [],
   "execution_count": null,
   "source": "",
   "id": "a7f0e4ce19f65f30"
  },
  {
   "metadata": {},
   "cell_type": "markdown",
   "source": "## Training and tuning",
   "id": "67ad1fca55fcc5ec"
  },
  {
   "metadata": {},
   "cell_type": "code",
   "outputs": [],
   "execution_count": null,
   "source": "rf = RandomForestClassifier()",
   "id": "bba52733873b9066"
  }
 ],
 "metadata": {
  "kernelspec": {
   "display_name": "Python 3",
   "language": "python",
   "name": "python3"
  },
  "language_info": {
   "codemirror_mode": {
    "name": "ipython",
    "version": 3
   },
   "file_extension": ".py",
   "mimetype": "text/x-python",
   "name": "python",
   "nbconvert_exporter": "python",
   "pygments_lexer": "ipython3",
   "version": "3.12.1"
  }
 },
 "nbformat": 4,
 "nbformat_minor": 5
}

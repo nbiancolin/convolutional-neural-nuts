{
 "cells": [
  {
   "cell_type": "code",
   "execution_count": 1,
   "metadata": {},
   "outputs": [],
   "source": [
    "import pandas as pd\n",
    "import numpy as np"
   ]
  },
  {
   "cell_type": "markdown",
   "metadata": {},
   "source": [
    "Substitute for own data path"
   ]
  },
  {
   "cell_type": "code",
   "execution_count": 2,
   "metadata": {},
   "outputs": [
    {
     "name": "stdout",
     "output_type": "stream",
     "text": [
      "successfully retrieved csv file\n"
     ]
    }
   ],
   "source": [
    "#df = pd.read_csv(r'C:\\Users\\eric7\\OneDrive\\Desktop\\aps360Project\\convolutional-neural-nuts\\data\\set.csv')\n",
    "df = pd.read_csv(\"../data/set.csv\")\n",
    "print(\"successfully retrieved csv file\")"
   ]
  },
  {
   "cell_type": "markdown",
   "metadata": {},
   "source": [
    "IN CSV files, formate as [path:genus]\n",
    "Created a dictionary that has keys as genus, and items as image paths"
   ]
  },
  {
   "cell_type": "code",
   "execution_count": 3,
   "metadata": {},
   "outputs": [],
   "source": [
    "grouped = df.groupby('Genus')['Path'].apply(list).to_dict()\n",
    "\n",
    "mapping = {key: np.array(value) for key, value in grouped.items()}"
   ]
  },
  {
   "cell_type": "markdown",
   "metadata": {},
   "source": [
    "Analysis of data\n",
    "- help decide cnn approach\n",
    "- all data in a numpy dictionary called mapping"
   ]
  },
  {
   "cell_type": "code",
   "execution_count": 4,
   "metadata": {},
   "outputs": [
    {
     "name": "stdout",
     "output_type": "stream",
     "text": [
      "number of classes: 70\n"
     ]
    }
   ],
   "source": [
    "print(f\"number of classes: {len(mapping)}\")"
   ]
  },
  {
   "cell_type": "code",
   "execution_count": 6,
   "metadata": {},
   "outputs": [
    {
     "name": "stdout",
     "output_type": "stream",
     "text": [
      "Class name: Amanita, number of images: 520\n",
      "Class name: Amauroderma, number of images: 535\n",
      "Class name: Antrodia, number of images: 312\n",
      "Class name: Aurantiopileus, number of images: 367\n",
      "Class name: Auricularia, number of images: 1559\n",
      "Class name: Boletinellus, number of images: 384\n",
      "Class name: Brunneocorticium, number of images: 432\n",
      "Class name: Calocera, number of images: 503\n",
      "Class name: Calvatia, number of images: 399\n",
      "Class name: Camillea, number of images: 448\n",
      "Class name: Chlorophyllum, number of images: 319\n",
      "Class name: Clavaria, number of images: 839\n",
      "Class name: Cookeina, number of images: 2879\n",
      "Class name: Coprinellus, number of images: 912\n",
      "Class name: Cordierites, number of images: 320\n",
      "Class name: Coriolopsis, number of images: 368\n",
      "Class name: Cotylidia, number of images: 448\n",
      "Class name: Cyathus, number of images: 872\n",
      "Class name: Cymatoderma, number of images: 471\n",
      "Class name: Cyptotrama, number of images: 351\n",
      "Class name: Dacryopinax, number of images: 727\n",
      "Class name: Dicephalospora, number of images: 383\n",
      "Class name: Encoelia, number of images: 527\n",
      "Class name: Entoloma, number of images: 1944\n",
      "Class name: Erioscyphella, number of images: 399\n",
      "Class name: Favolus, number of images: 799\n",
      "Class name: Filoboletus, number of images: 783\n",
      "Class name: Flaviporus, number of images: 375\n",
      "Class name: Fomitiporia, number of images: 960\n",
      "Class name: Funalia, number of images: 344\n",
      "Class name: Fuscoporia, number of images: 840\n",
      "Class name: Ganoderma, number of images: 560\n",
      "Class name: Geastrum, number of images: 1384\n",
      "Class name: Gymnopus, number of images: 320\n",
      "Class name: Hexagonia, number of images: 648\n",
      "Class name: Hydropus, number of images: 576\n",
      "Class name: Hygroaster, number of images: 503\n",
      "Class name: Hygrocybe, number of images: 3919\n",
      "Class name: Hymenochaete, number of images: 967\n",
      "Class name: Ionomidotis, number of images: 367\n",
      "Class name: Lentinus, number of images: 432\n",
      "Class name: Leucocoprinus, number of images: 527\n",
      "Class name: Marasmiellus, number of images: 408\n",
      "Class name: Marasmius, number of images: 4488\n",
      "Class name: Microglossum, number of images: 535\n",
      "Class name: Mycocitrus, number of images: 360\n",
      "Class name: Myriostoma, number of images: 400\n",
      "Class name: Ophiocordyceps, number of images: 1943\n",
      "Class name: Oudemansiella, number of images: 1864\n",
      "Class name: Panaeolus, number of images: 311\n",
      "Class name: Panus, number of images: 839\n",
      "Class name: Penicilliopsis, number of images: 327\n",
      "Class name: Phallus, number of images: 1383\n",
      "Class name: Phillipsia, number of images: 655\n",
      "Class name: Pleurotus, number of images: 664\n",
      "Class name: Pluteus, number of images: 975\n",
      "Class name: Pycnoporus, number of images: 951\n",
      "Class name: Rigidoporus, number of images: 416\n",
      "Class name: Schizophyllum, number of images: 1008\n",
      "Class name: Scutellinia, number of images: 480\n",
      "Class name: Steccherinum, number of images: 391\n",
      "Class name: Stereum, number of images: 535\n",
      "Class name: Tetrapyrgos, number of images: 631\n",
      "Class name: Thamnomyces, number of images: 343\n",
      "Class name: Trametes, number of images: 1272\n",
      "Class name: Trichaptum, number of images: 328\n",
      "Class name: Trogia, number of images: 352\n",
      "Class name: Volvariella, number of images: 312\n",
      "Class name: Xeromphalina, number of images: 584\n",
      "Class name: Xylaria, number of images: 1047\n",
      "More than 75: 70\n",
      "Less Than 75: 0\n",
      "Total Images 55324\n"
     ]
    }
   ],
   "source": [
    "LessThan75 = 0\n",
    "MoreThan75 = 0\n",
    "totalCount = 0\n",
    "for dict_keys in mapping.keys():\n",
    "    totalCount += len(mapping[dict_keys])\n",
    "    if len(mapping[dict_keys]) > 75:\n",
    "        print(f\"Class name: {dict_keys}, number of images: {len(mapping[dict_keys])}\")\n",
    "        MoreThan75 += 1\n",
    "    else:\n",
    "        LessThan75 += 1\n",
    "print(f\"More than 75: {MoreThan75}\")\n",
    "print(f\"Less Than 75: {LessThan75}\")\n",
    "print(f\"Total Images {totalCount}\")"
   ]
  },
  {
   "cell_type": "code",
   "execution_count": 27,
   "metadata": {},
   "outputs": [
    {
     "name": "stdout",
     "output_type": "stream",
     "text": [
      "35\n"
     ]
    }
   ],
   "source": [
    "#variable to track number of clases\n",
    "n = int(len(mapping) /2)\n",
    "print(n)"
   ]
  },
  {
   "cell_type": "markdown",
   "metadata": {},
   "source": []
  },
  {
   "cell_type": "markdown",
   "metadata": {},
   "source": [
    "CNN model with transfer learning"
   ]
  },
  {
   "cell_type": "code",
   "execution_count": 8,
   "metadata": {},
   "outputs": [],
   "source": [
    "#imports\n",
    "#need to pip install torch here\n",
    "import numpy as np\n",
    "import torch\n",
    "import torch.nn as nn\n",
    "import torch.nn.functional as F\n",
    "import torch.optim as optim\n",
    "from PIL import Image"
   ]
  },
  {
   "cell_type": "code",
   "execution_count": 9,
   "metadata": {},
   "outputs": [],
   "source": [
    "class preLearnedFungaV1(nn.Module):\n",
    "    def __init__(self):\n",
    "        super(preLearnedFungaV1, self).__init__()\n",
    "        self.name = \"fungaV1\"\n",
    "        self.fc1 = nn.Linear(256*6*6, 256)\n",
    "        self.fc2 = nn.Linear(256, 128)\n",
    "        self.fc3 = nn.Linear(128, n)\n",
    "\n",
    "    def forward(self, x):\n",
    "        x = x.view(x.size(0), -1)\n",
    "        x = F.relu(self.fc1(x))\n",
    "        x = self.fc2(x)\n",
    "        x = F.relu(x)\n",
    "        x = self.fc3(x)\n",
    "        x = x.squeeze(1)  \n",
    "        return x"
   ]
  },
  {
   "cell_type": "markdown",
   "metadata": {},
   "source": [
    "Create training, validation and testing\n",
    "- apply the transfer learning here"
   ]
  },
  {
   "cell_type": "code",
   "execution_count": 10,
   "metadata": {},
   "outputs": [],
   "source": [
    "#need to install torchvision\n",
    "from torch.utils.data import TensorDataset\n",
    "from torchvision import transforms\n",
    "#adjust to 224 dimension (input to alexnet)\n",
    "transform = transforms.Compose([transforms.ToTensor(), transforms.Resize((224,224))])"
   ]
  },
  {
   "cell_type": "code",
   "execution_count": 11,
   "metadata": {},
   "outputs": [
    {
     "name": "stderr",
     "output_type": "stream",
     "text": [
      "c:\\Users\\Nicholas\\AppData\\Local\\Programs\\Python\\Python312\\Lib\\site-packages\\torchvision\\models\\_utils.py:208: UserWarning: The parameter 'pretrained' is deprecated since 0.13 and may be removed in the future, please use 'weights' instead.\n",
      "  warnings.warn(\n",
      "c:\\Users\\Nicholas\\AppData\\Local\\Programs\\Python\\Python312\\Lib\\site-packages\\torchvision\\models\\_utils.py:223: UserWarning: Arguments other than a weight enum or `None` for 'weights' are deprecated since 0.13 and may be removed in the future. The current behavior is equivalent to passing `weights=AlexNet_Weights.IMAGENET1K_V1`. You can also use `weights=AlexNet_Weights.DEFAULT` to get the most up-to-date weights.\n",
      "  warnings.warn(msg)\n"
     ]
    }
   ],
   "source": [
    "#use alexnet for now\n",
    "import torchvision.models\n",
    "alexnet = torchvision.models.alexnet(pretrained=True)"
   ]
  },
  {
   "cell_type": "code",
   "execution_count": 13,
   "metadata": {},
   "outputs": [
    {
     "name": "stdout",
     "output_type": "stream",
     "text": [
      "Total number of classes 35.0\n",
      "Start Transfer Learning Section: AlexNet feature extract for each class\n",
      "Class 1 out of 35.0\n",
      "Class 2 out of 35.0\n",
      "Class 3 out of 35.0\n",
      "Class 4 out of 35.0\n",
      "Class 5 out of 35.0\n",
      "Class 6 out of 35.0\n",
      "Class 7 out of 35.0\n",
      "Class 8 out of 35.0\n",
      "Class 9 out of 35.0\n",
      "Class 10 out of 35.0\n",
      "Class 11 out of 35.0\n",
      "Class 12 out of 35.0\n",
      "Class 13 out of 35.0\n",
      "Class 14 out of 35.0\n",
      "Class 15 out of 35.0\n",
      "Class 16 out of 35.0\n",
      "Class 17 out of 35.0\n",
      "Class 18 out of 35.0\n",
      "Class 19 out of 35.0\n",
      "Class 20 out of 35.0\n",
      "Class 21 out of 35.0\n",
      "Class 22 out of 35.0\n",
      "Class 23 out of 35.0\n",
      "Class 24 out of 35.0\n",
      "Class 25 out of 35.0\n",
      "Class 26 out of 35.0\n",
      "Class 27 out of 35.0\n",
      "Class 28 out of 35.0\n",
      "Class 29 out of 35.0\n",
      "Class 30 out of 35.0\n",
      "Class 31 out of 35.0\n",
      "Class 32 out of 35.0\n",
      "Class 33 out of 35.0\n",
      "Class 34 out of 35.0\n",
      "Class 35 out of 35.0\n"
     ]
    }
   ],
   "source": [
    "#running this takes a long time, only do it after set.csv is fixed\n",
    "dict = {}\n",
    "print(f\"Total number of classes {n}\")\n",
    "print(\"Start Transfer Learning Section: AlexNet feature extract for each class\")\n",
    "iterCount = 1\n",
    "\n",
    "for key, images in mapping.items():\n",
    "    if iterCount > n:\n",
    "        break\n",
    "    print(f\"Class {iterCount} out of {n}\")\n",
    "    dict[key] = []\n",
    "    for img in images:\n",
    "        newImg = Image.open(img)\n",
    "        newImg = transform(newImg)\n",
    "        feat = alexnet.features(newImg)\n",
    "        dict[key].append(feat)\n",
    "    iterCount += 1\n"
   ]
  },
  {
   "cell_type": "code",
   "execution_count": 14,
   "metadata": {},
   "outputs": [
    {
     "name": "stdout",
     "output_type": "stream",
     "text": [
      "35\n"
     ]
    }
   ],
   "source": [
    "#change from str key to numerical key\n",
    "mappingStrToInt = {idx: value for idx, (key, value) in enumerate(dict.items())}\n",
    "print(len(mappingStrToInt))"
   ]
  },
  {
   "cell_type": "code",
   "execution_count": 15,
   "metadata": {},
   "outputs": [
    {
     "name": "stdout",
     "output_type": "stream",
     "text": [
      "35\n"
     ]
    }
   ],
   "source": [
    "#numerical dictionary\n",
    "numericalDict = {}\n",
    "for idx, (key, value) in enumerate(dict.items()):\n",
    "    numericalDict[idx] = value\n",
    "print(len(numericalDict))"
   ]
  },
  {
   "cell_type": "code",
   "execution_count": 16,
   "metadata": {},
   "outputs": [
    {
     "name": "stdout",
     "output_type": "stream",
     "text": [
      "Running data dictionary\n",
      "Complete Running Data Dictionary\n"
     ]
    }
   ],
   "source": [
    "# Split data into training, validation, and testing sets\n",
    "tData, tLabel = [], []\n",
    "vData, vLabel = [], []\n",
    "testingData, testingLabel = [], []\n",
    "\n",
    "print(\"Running data dictionary\")\n",
    "numIter = 1\n",
    "#0.75 training, 0.15 valdiation, 0.10 for testing\n",
    "for key, values in numericalDict.items():\n",
    "    if numIter > n:\n",
    "        break\n",
    "    numTrain = int(len(values) * 0.75)\n",
    "    numVal = int(len(values) * 0.15)\n",
    "\n",
    "    tLabel.extend([key] * numTrain)\n",
    "    vLabel.extend([key] * numVal)\n",
    "    testingLabel.extend([key] * (len(values) - numTrain - numVal))\n",
    "\n",
    "    tData.extend(values[:numTrain])\n",
    "    vData.extend(values[numTrain:numTrain + numVal])\n",
    "    testingData.extend(values[numTrain + numVal:])\n",
    "\n",
    "    numIter += 1\n",
    "print(\"Complete Running Data Dictionary\")\n",
    "tTensor = torch.stack(tData)\n",
    "vTensor = torch.stack(vData)\n",
    "testingTensor = torch.stack(testingData)\n",
    "\n",
    "tLabelTensor = torch.tensor(tLabel)\n",
    "vLabelTensor = torch.tensor(vLabel)\n",
    "testingLabelTensor = torch.tensor(testingLabel)\n",
    "\n",
    "train_set = TensorDataset(tTensor, tLabelTensor)\n",
    "validation_set = TensorDataset(vTensor, vLabelTensor)\n",
    "test_set = TensorDataset(testingTensor, testingLabelTensor)"
   ]
  },
  {
   "cell_type": "code",
   "execution_count": 17,
   "metadata": {},
   "outputs": [
    {
     "name": "stdout",
     "output_type": "stream",
     "text": [
      "tTensor shape: torch.Size([18169, 256, 6, 6])\n",
      "vTensor shape: torch.Size([3619, 256, 6, 6])\n",
      "testingTensor shape: torch.Size([2443, 256, 6, 6])\n"
     ]
    }
   ],
   "source": [
    "print(f'tTensor shape: {tTensor.shape}')\n",
    "print(f'vTensor shape: {vTensor.shape}')\n",
    "print(f'testingTensor shape: {testingTensor.shape}')"
   ]
  },
  {
   "cell_type": "code",
   "execution_count": 18,
   "metadata": {},
   "outputs": [
    {
     "name": "stdout",
     "output_type": "stream",
     "text": [
      "18169\n",
      "3619\n",
      "2443\n"
     ]
    }
   ],
   "source": [
    "#testing if train, validation, and test sets work\n",
    "print(len(train_set))\n",
    "print(len(validation_set))\n",
    "print(len(test_set))"
   ]
  },
  {
   "cell_type": "markdown",
   "metadata": {},
   "source": [
    "Data Loading"
   ]
  },
  {
   "cell_type": "code",
   "execution_count": 19,
   "metadata": {},
   "outputs": [],
   "source": [
    "#customized data_loading function with variable batch size\n",
    "import torch\n",
    "def dataLoadFunction(BatchSize):\n",
    "  train_load = torch.utils.data.DataLoader(train_set, batch_size = BatchSize, shuffle=True)\n",
    "  validation_load = torch.utils.data.DataLoader(validation_set, batch_size = BatchSize)\n",
    "  testing_load = torch.utils.data.DataLoader(test_set, batch_size = BatchSize)\n",
    "  return train_load, validation_load, testing_load"
   ]
  },
  {
   "cell_type": "markdown",
   "metadata": {},
   "source": [
    "Training code"
   ]
  },
  {
   "cell_type": "code",
   "execution_count": 20,
   "metadata": {},
   "outputs": [],
   "source": [
    "def getValidationLoss(net, validation_loader, criterion):\n",
    "  n = len(validation_loader)\n",
    "  totalLoss = 0\n",
    "  for i, data in enumerate(validation_loader):\n",
    "    inputs, labels = data\n",
    "    outputs = net(inputs)\n",
    "    loss = criterion(outputs, labels)\n",
    "    totalLoss += loss.item()\n",
    "  totalLoss = totalLoss / n\n",
    "  return totalLoss\n",
    "\n",
    "#model name\n",
    "def get_model_name(name, batch_size, lr, epoch):\n",
    "    path = \"model_{0}_bs{1}_lr{2}_epoch{3}\".format(name, batch_size, lr, epoch)\n",
    "    return path\n",
    "\n",
    "#plotting helper function\n",
    "import matplotlib.pyplot as plt\n",
    "#plot image function\n",
    "#modified from lab 2\n",
    "def plot_training_curve(path):\n",
    "    train_loss = np.loadtxt(\"{}_train_loss.csv\".format(path))\n",
    "    val_loss = np.loadtxt(\"{}_val_loss.csv\".format(path))\n",
    "    n = len(train_loss)\n",
    "    #plot model\n",
    "    plt.title(\"Train vs Validation Loss\")\n",
    "    plt.plot(range(1,n+1), train_loss, label=\"Train\")\n",
    "    plt.plot(range(1,n+1), val_loss, label=\"Validation\")\n",
    "    plt.xlabel(\"Epoch\")\n",
    "    plt.ylabel(\"Loss\")\n",
    "    plt.legend(loc='best')\n",
    "    plt.show()"
   ]
  },
  {
   "cell_type": "code",
   "execution_count": 21,
   "metadata": {},
   "outputs": [],
   "source": [
    "allClasses = []\n",
    "#^need to loop through all classes in mapping (later problem)"
   ]
  },
  {
   "cell_type": "code",
   "execution_count": 22,
   "metadata": {},
   "outputs": [],
   "source": [
    "import time"
   ]
  },
  {
   "cell_type": "code",
   "execution_count": 24,
   "metadata": {},
   "outputs": [],
   "source": [
    "def train_net_TL(net, batchsize=24, learning_rate=0.007, num_epochs=12): #values here are defaults, should* be overwritten when called\n",
    "\n",
    "  torch.manual_seed(1)\n",
    "\n",
    "  target_classes = allClasses #defined in last part\n",
    "\n",
    "  criterion = nn.CrossEntropyLoss()\n",
    "  optimizer = optim.SGD(net.parameters(), lr=learning_rate, momentum=0.8)\n",
    "\n",
    "  training_loader, validation_loader, _ = dataLoadFunction(batchsize)\n",
    "\n",
    "  train_loss_graph = np.zeros(num_epochs)\n",
    "  val_loss_graph = np.zeros(num_epochs)\n",
    "\n",
    "  n = len(training_loader)\n",
    "  startTime = time.time()\n",
    "  for currepoch in range(num_epochs):\n",
    "    #print(\"New epoch\")\n",
    "    trainLoss = 0\n",
    "    #net.train()\n",
    "    for i, (inputs, labels) in enumerate(training_loader):\n",
    "      optimizer.zero_grad()\n",
    "\n",
    "      inputs = torch.tensor(inputs.detach().numpy()).to(inputs.device)\n",
    "      outputs = net(inputs)\n",
    "\n",
    "      loss = criterion(outputs, labels)\n",
    "      loss.backward()\n",
    "      optimizer.step()\n",
    "      trainLoss += loss.item()\n",
    "\n",
    "    #print(\"Onto validation\")\n",
    "    #net.eval()\n",
    "    train_loss_graph[currepoch] = trainLoss/n\n",
    "    val_loss_graph[currepoch] = getValidationLoss(net, validation_loader, criterion)\n",
    "\n",
    "    print(f\"Epoch: {currepoch} Training Loss: {train_loss_graph[currepoch]:.2f}, Validation Loss: {val_loss_graph[currepoch]:.2f}, Time: {time.time() - startTime:.2f} seconds\")\n",
    "\n",
    "    model_path = get_model_name(net.name, batchsize, learning_rate, currepoch)\n",
    "    torch.save(net.state_dict(), model_path)\n",
    "  print(\"Total time: \", time.time()-startTime)\n",
    "\n",
    "  path = \"model_{0}_bs{1}_lr{2}_epoch{3}\".format(net.name, batchsize, learning_rate, num_epochs)\n",
    "  np.savetxt(\"{}_train_loss.csv\".format(path), train_loss_graph)\n",
    "  np.savetxt(\"{}_val_loss.csv\".format(path), val_loss_graph)"
   ]
  },
  {
   "cell_type": "markdown",
   "metadata": {},
   "source": [
    "Training here"
   ]
  },
  {
   "cell_type": "code",
   "execution_count": 35,
   "metadata": {},
   "outputs": [],
   "source": [
    "#global variabls - so you don't have to modify them everywhere\n",
    "BATCH_SIZE = 36\n",
    "NUM_EPOCHS = 20\n",
    "LEARNING_RATE = 0.007"
   ]
  },
  {
   "cell_type": "code",
   "execution_count": 28,
   "metadata": {},
   "outputs": [
    {
     "name": "stdout",
     "output_type": "stream",
     "text": [
      "Epoch: 0 Training Loss: 1.58, Validation Loss: 1.38, Time: 3.50 seconds\n",
      "Epoch: 1 Training Loss: 0.58, Validation Loss: 1.16, Time: 6.41 seconds\n",
      "Epoch: 2 Training Loss: 0.27, Validation Loss: 1.25, Time: 9.34 seconds\n",
      "Epoch: 3 Training Loss: 0.14, Validation Loss: 1.30, Time: 12.15 seconds\n",
      "Epoch: 4 Training Loss: 0.07, Validation Loss: 1.42, Time: 14.98 seconds\n",
      "Epoch: 5 Training Loss: 0.03, Validation Loss: 1.50, Time: 17.77 seconds\n",
      "Epoch: 6 Training Loss: 0.01, Validation Loss: 1.44, Time: 20.57 seconds\n",
      "Epoch: 7 Training Loss: 0.01, Validation Loss: 1.45, Time: 23.34 seconds\n",
      "Epoch: 8 Training Loss: 0.00, Validation Loss: 1.46, Time: 26.14 seconds\n",
      "Epoch: 9 Training Loss: 0.00, Validation Loss: 1.51, Time: 28.93 seconds\n",
      "Epoch: 10 Training Loss: 0.00, Validation Loss: 1.52, Time: 31.73 seconds\n",
      "Epoch: 11 Training Loss: 0.00, Validation Loss: 1.54, Time: 34.52 seconds\n",
      "Epoch: 12 Training Loss: 0.00, Validation Loss: 1.56, Time: 37.33 seconds\n",
      "Epoch: 13 Training Loss: 0.00, Validation Loss: 1.58, Time: 40.12 seconds\n",
      "Epoch: 14 Training Loss: 0.00, Validation Loss: 1.60, Time: 42.91 seconds\n",
      "Epoch: 15 Training Loss: 0.00, Validation Loss: 1.60, Time: 45.70 seconds\n",
      "Epoch: 16 Training Loss: 0.00, Validation Loss: 1.62, Time: 48.50 seconds\n",
      "Epoch: 17 Training Loss: 0.00, Validation Loss: 1.63, Time: 51.30 seconds\n",
      "Epoch: 18 Training Loss: 0.00, Validation Loss: 1.63, Time: 54.11 seconds\n",
      "Epoch: 19 Training Loss: 0.00, Validation Loss: 1.64, Time: 56.91 seconds\n",
      "Total time:  56.917850971221924\n"
     ]
    }
   ],
   "source": [
    "net3TL = preLearnedFungaV1()\n",
    "train_net_TL(net3TL, batchsize=BATCH_SIZE, num_epochs=NUM_EPOCHS)"
   ]
  },
  {
   "cell_type": "code",
   "execution_count": 31,
   "metadata": {},
   "outputs": [
    {
     "data": {
      "image/png": "[encoded data removed]",
      "text/plain": [
       "<Figure size 640x480 with 1 Axes>"
      ]
     },
     "metadata": {},
     "output_type": "display_data"
    }
   ],
   "source": [
    "#plot curve here\n",
    "plot_training_curve(\"model_{0}_bs{1}_lr{2}_epoch{3}\".format(\"fungaV1\", BATCH_SIZE, LEARNING_RATE, NUM_EPOCHS))"
   ]
  },
  {
   "cell_type": "markdown",
   "metadata": {},
   "source": [
    "Test model"
   ]
  },
  {
   "cell_type": "code",
   "execution_count": 32,
   "metadata": {},
   "outputs": [],
   "source": [
    "#test accuracy function\n",
    "def getAccuracy(net, loader):\n",
    "  correct, count = 0, 0\n",
    "\n",
    "  #no gradient modification\n",
    "  with torch.no_grad():\n",
    "    print(\"Total number of batches: \", len(loader))\n",
    "    for currbatch, (i, corr) in enumerate(loader):\n",
    "      count += corr.shape[0]\n",
    "      print(\"CurrBatch: \", currbatch+1)\n",
    "\n",
    "      correct += (torch.max(net(i), 1)[1] == corr).sum().item()\n",
    "\n",
    "  return correct / count"
   ]
  },
  {
   "cell_type": "code",
   "execution_count": 38,
   "metadata": {},
   "outputs": [
    {
     "name": "stdout",
     "output_type": "stream",
     "text": [
      "Total number of batches:  102\n",
      "CurrBatch:  1\n",
      "CurrBatch:  2\n",
      "CurrBatch:  3\n",
      "CurrBatch:  4\n",
      "CurrBatch:  5\n",
      "CurrBatch:  6\n",
      "CurrBatch:  7\n",
      "CurrBatch:  8\n",
      "CurrBatch:  9\n",
      "CurrBatch:  10\n",
      "CurrBatch:  11\n",
      "CurrBatch:  12\n",
      "CurrBatch:  13\n",
      "CurrBatch:  14\n",
      "CurrBatch:  15\n",
      "CurrBatch:  16\n",
      "CurrBatch:  17\n",
      "CurrBatch:  18\n",
      "CurrBatch:  19\n",
      "CurrBatch:  20\n",
      "CurrBatch:  21\n",
      "CurrBatch:  22\n",
      "CurrBatch:  23\n",
      "CurrBatch:  24\n",
      "CurrBatch:  25\n",
      "CurrBatch:  26\n",
      "CurrBatch:  27\n",
      "CurrBatch:  28\n",
      "CurrBatch:  29\n",
      "CurrBatch:  30\n",
      "CurrBatch:  31\n",
      "CurrBatch:  32\n",
      "CurrBatch:  33\n",
      "CurrBatch:  34\n",
      "CurrBatch:  35\n",
      "CurrBatch:  36\n",
      "CurrBatch:  37\n",
      "CurrBatch:  38\n",
      "CurrBatch:  39\n",
      "CurrBatch:  40\n",
      "CurrBatch:  41\n",
      "CurrBatch:  42\n",
      "CurrBatch:  43\n",
      "CurrBatch:  44\n",
      "CurrBatch:  45\n",
      "CurrBatch:  46\n",
      "CurrBatch:  47\n",
      "CurrBatch:  48\n",
      "CurrBatch:  49\n",
      "CurrBatch:  50\n",
      "CurrBatch:  51\n",
      "CurrBatch:  52\n",
      "CurrBatch:  53\n",
      "CurrBatch:  54\n",
      "CurrBatch:  55\n",
      "CurrBatch:  56\n",
      "CurrBatch:  57\n",
      "CurrBatch:  58\n",
      "CurrBatch:  59\n",
      "CurrBatch:  60\n",
      "CurrBatch:  61\n",
      "CurrBatch:  62\n",
      "CurrBatch:  63\n",
      "CurrBatch:  64\n",
      "CurrBatch:  65\n",
      "CurrBatch:  66\n",
      "CurrBatch:  67\n",
      "CurrBatch:  68\n",
      "CurrBatch:  69\n",
      "CurrBatch:  70\n",
      "CurrBatch:  71\n",
      "CurrBatch:  72\n",
      "CurrBatch:  73\n",
      "CurrBatch:  74\n",
      "CurrBatch:  75\n",
      "CurrBatch:  76\n",
      "CurrBatch:  77\n",
      "CurrBatch:  78\n",
      "CurrBatch:  79\n",
      "CurrBatch:  80\n",
      "CurrBatch:  81\n",
      "CurrBatch:  82\n",
      "CurrBatch:  83\n",
      "CurrBatch:  84\n",
      "CurrBatch:  85\n",
      "CurrBatch:  86\n",
      "CurrBatch:  87\n",
      "CurrBatch:  88\n",
      "CurrBatch:  89\n",
      "CurrBatch:  90\n",
      "CurrBatch:  91\n",
      "CurrBatch:  92\n",
      "CurrBatch:  93\n",
      "CurrBatch:  94\n",
      "CurrBatch:  95\n",
      "CurrBatch:  96\n",
      "CurrBatch:  97\n",
      "CurrBatch:  98\n",
      "CurrBatch:  99\n",
      "CurrBatch:  100\n",
      "CurrBatch:  101\n",
      "CurrBatch:  102\n",
      "Test Classification Accuracy:  0.6328284895620139\n"
     ]
    }
   ],
   "source": [
    "\n",
    "bestNet = preLearnedFungaV1()\n",
    "model_path = get_model_name(\"fungaV1\", batch_size=BATCH_SIZE, lr=LEARNING_RATE, epoch=(NUM_EPOCHS-1))\n",
    "state = torch.load(model_path)\n",
    "bestNet.load_state_dict(state)\n",
    "\n",
    "_,_, testLoad = dataLoadFunction(24)\n",
    "\n",
    "dataLoad = testLoad\n",
    "\n",
    "accuracy = getAccuracy(bestNet, dataLoad)\n",
    "print(\"Test Classification Accuracy: \", accuracy)"
   ]
  }
 ],
 "metadata": {
  "kernelspec": {
   "display_name": "Python 3",
   "language": "python",
   "name": "python3"
  },
  "language_info": {
   "codemirror_mode": {
    "name": "ipython",
    "version": 3
   },
   "file_extension": ".py",
   "mimetype": "text/x-python",
   "name": "python",
   "nbconvert_exporter": "python",
   "pygments_lexer": "ipython3",
   "version": "3.12.4"
  }
 },
 "nbformat": 4,
 "nbformat_minor": 2
}

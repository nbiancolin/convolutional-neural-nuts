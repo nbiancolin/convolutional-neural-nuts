{
 "cells": [
  {
   "cell_type": "code",
   "execution_count": 1,
   "metadata": {},
   "outputs": [],
   "source": [
    "import pandas as pd\n",
    "import numpy as np"
   ]
  },
  {
   "cell_type": "markdown",
   "metadata": {},
   "source": [
    "Substitute for own data path"
   ]
  },
  {
   "cell_type": "code",
   "execution_count": 2,
   "metadata": {},
   "outputs": [
    {
     "name": "stdout",
     "output_type": "stream",
     "text": [
      "successfully retrieved csv file\n"
     ]
    }
   ],
   "source": [
    "df = pd.read_csv(r'C:\\Users\\eric7\\OneDrive\\Desktop\\aps360Project\\convolutional-neural-nuts\\data\\set.csv')\n",
    "print(\"successfully retrieved csv file\")"
   ]
  },
  {
   "cell_type": "markdown",
   "metadata": {},
   "source": [
    "IN CSV files, formate as [path:genus]\n",
    "Created a dictionary that has keys as genus, and items as image paths"
   ]
  },
  {
   "cell_type": "code",
   "execution_count": 3,
   "metadata": {},
   "outputs": [],
   "source": [
    "grouped = df.groupby('Genus')['Path'].apply(list).to_dict()\n",
    "\n",
    "mapping = {key: np.array(value) for key, value in grouped.items()}"
   ]
  },
  {
   "cell_type": "markdown",
   "metadata": {},
   "source": [
    "Analysis of data\n",
    "- help decide cnn approach\n",
    "- all data in a numpy dictionary called mapping"
   ]
  },
  {
   "cell_type": "code",
   "execution_count": 4,
   "metadata": {},
   "outputs": [
    {
     "name": "stdout",
     "output_type": "stream",
     "text": [
      "number of classes: 70\n"
     ]
    }
   ],
   "source": [
    "print(f\"number of classes: {len(mapping)}\")"
   ]
  },
  {
   "cell_type": "code",
   "execution_count": 8,
   "metadata": {},
   "outputs": [],
   "source": [
    "LessThan75 = 0\n",
    "MoreThan75 = 0\n",
    "for dict_keys in mapping.keys():\n",
    "    if len(dict_keys) > 75:\n",
    "        print(f\"Class name: {dict_keys}, number of images: {len(dict_keys)}\")"
   ]
  },
  {
   "cell_type": "markdown",
   "metadata": {},
   "source": []
  }
 ],
 "metadata": {
  "kernelspec": {
   "display_name": "Python 3",
   "language": "python",
   "name": "python3"
  },
  "language_info": {
   "codemirror_mode": {
    "name": "ipython",
    "version": 3
   },
   "file_extension": ".py",
   "mimetype": "text/x-python",
   "name": "python",
   "nbconvert_exporter": "python",
   "pygments_lexer": "ipython3",
   "version": "3.12.1"
  }
 },
 "nbformat": 4,
 "nbformat_minor": 2
}

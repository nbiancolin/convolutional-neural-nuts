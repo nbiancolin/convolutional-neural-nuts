{
 "cells": [
  {
   "cell_type": "code",
   "execution_count": 1,
   "metadata": {},
   "outputs": [],
   "source": [
    "import pandas as pd\n",
    "import numpy as np"
   ]
  },
  {
   "cell_type": "markdown",
   "metadata": {},
   "source": [
    "Substitute for own data path"
   ]
  },
  {
   "cell_type": "code",
   "execution_count": 2,
   "metadata": {},
   "outputs": [
    {
     "name": "stdout",
     "output_type": "stream",
     "text": [
      "successfully retrieved csv file\n"
     ]
    }
   ],
   "source": [
    "#df = pd.read_csv(r'C:\\Users\\eric7\\OneDrive\\Desktop\\aps360Project\\convolutional-neural-nuts\\data\\set.csv')\n",
    "df = pd.read_csv(\"../data/set.csv\")\n",
    "print(\"successfully retrieved csv file\")"
   ]
  },
  {
   "cell_type": "markdown",
   "metadata": {},
   "source": [
    "IN CSV files, formate as [path:genus]\n",
    "Created a dictionary that has keys as genus, and items as image paths"
   ]
  },
  {
   "cell_type": "code",
   "execution_count": 3,
   "metadata": {},
   "outputs": [],
   "source": [
    "grouped = df.groupby('Genus')['Path'].apply(list).to_dict()\n",
    "\n",
    "mapping = {key: np.array(value) for key, value in grouped.items()}"
   ]
  },
  {
   "cell_type": "markdown",
   "metadata": {},
   "source": [
    "Analysis of data\n",
    "- help decide cnn approach\n",
    "- all data in a numpy dictionary called mapping"
   ]
  },
  {
   "cell_type": "code",
   "execution_count": 4,
   "metadata": {},
   "outputs": [
    {
     "name": "stdout",
     "output_type": "stream",
     "text": [
      "number of classes: 70\n"
     ]
    }
   ],
   "source": [
    "print(f\"number of classes: {len(mapping)}\")"
   ]
  },
  {
   "cell_type": "code",
   "execution_count": 6,
   "metadata": {},
   "outputs": [
    {
     "name": "stdout",
     "output_type": "stream",
     "text": [
      "Class name: Amanita, number of images: 520\n",
      "Class name: Amauroderma, number of images: 535\n",
      "Class name: Antrodia, number of images: 312\n",
      "Class name: Aurantiopileus, number of images: 367\n",
      "Class name: Auricularia, number of images: 1559\n",
      "Class name: Boletinellus, number of images: 384\n",
      "Class name: Brunneocorticium, number of images: 432\n",
      "Class name: Calocera, number of images: 503\n",
      "Class name: Calvatia, number of images: 399\n",
      "Class name: Camillea, number of images: 448\n",
      "Class name: Chlorophyllum, number of images: 319\n",
      "Class name: Clavaria, number of images: 839\n",
      "Class name: Cookeina, number of images: 2879\n",
      "Class name: Coprinellus, number of images: 912\n",
      "Class name: Cordierites, number of images: 320\n",
      "Class name: Coriolopsis, number of images: 368\n",
      "Class name: Cotylidia, number of images: 448\n",
      "Class name: Cyathus, number of images: 872\n",
      "Class name: Cymatoderma, number of images: 471\n",
      "Class name: Cyptotrama, number of images: 351\n",
      "Class name: Dacryopinax, number of images: 727\n",
      "Class name: Dicephalospora, number of images: 383\n",
      "Class name: Encoelia, number of images: 527\n",
      "Class name: Entoloma, number of images: 1944\n",
      "Class name: Erioscyphella, number of images: 399\n",
      "Class name: Favolus, number of images: 799\n",
      "Class name: Filoboletus, number of images: 783\n",
      "Class name: Flaviporus, number of images: 375\n",
      "Class name: Fomitiporia, number of images: 960\n",
      "Class name: Funalia, number of images: 344\n",
      "Class name: Fuscoporia, number of images: 840\n",
      "Class name: Ganoderma, number of images: 560\n",
      "Class name: Geastrum, number of images: 1384\n",
      "Class name: Gymnopus, number of images: 320\n",
      "Class name: Hexagonia, number of images: 648\n",
      "Class name: Hydropus, number of images: 576\n",
      "Class name: Hygroaster, number of images: 503\n",
      "Class name: Hygrocybe, number of images: 3919\n",
      "Class name: Hymenochaete, number of images: 967\n",
      "Class name: Ionomidotis, number of images: 367\n",
      "Class name: Lentinus, number of images: 432\n",
      "Class name: Leucocoprinus, number of images: 527\n",
      "Class name: Marasmiellus, number of images: 408\n",
      "Class name: Marasmius, number of images: 4488\n",
      "Class name: Microglossum, number of images: 535\n",
      "Class name: Mycocitrus, number of images: 360\n",
      "Class name: Myriostoma, number of images: 400\n",
      "Class name: Ophiocordyceps, number of images: 1943\n",
      "Class name: Oudemansiella, number of images: 1864\n",
      "Class name: Panaeolus, number of images: 311\n",
      "Class name: Panus, number of images: 839\n",
      "Class name: Penicilliopsis, number of images: 327\n",
      "Class name: Phallus, number of images: 1383\n",
      "Class name: Phillipsia, number of images: 655\n",
      "Class name: Pleurotus, number of images: 664\n",
      "Class name: Pluteus, number of images: 975\n",
      "Class name: Pycnoporus, number of images: 951\n",
      "Class name: Rigidoporus, number of images: 416\n",
      "Class name: Schizophyllum, number of images: 1008\n",
      "Class name: Scutellinia, number of images: 480\n",
      "Class name: Steccherinum, number of images: 391\n",
      "Class name: Stereum, number of images: 535\n",
      "Class name: Tetrapyrgos, number of images: 631\n",
      "Class name: Thamnomyces, number of images: 343\n",
      "Class name: Trametes, number of images: 1272\n",
      "Class name: Trichaptum, number of images: 328\n",
      "Class name: Trogia, number of images: 352\n",
      "Class name: Volvariella, number of images: 312\n",
      "Class name: Xeromphalina, number of images: 584\n",
      "Class name: Xylaria, number of images: 1047\n",
      "More than 75: 70\n",
      "Less Than 75: 0\n",
      "Total Images 55324\n"
     ]
    }
   ],
   "source": [
    "LessThan75 = 0\n",
    "MoreThan75 = 0\n",
    "totalCount = 0\n",
    "for dict_keys in mapping.keys():\n",
    "    totalCount += len(mapping[dict_keys])\n",
    "    if len(mapping[dict_keys]) > 75:\n",
    "        print(f\"Class name: {dict_keys}, number of images: {len(mapping[dict_keys])}\")\n",
    "        MoreThan75 += 1\n",
    "    else:\n",
    "        LessThan75 += 1\n",
    "print(f\"More than 75: {MoreThan75}\")\n",
    "print(f\"Less Than 75: {LessThan75}\")\n",
    "print(f\"Total Images {totalCount}\")"
   ]
  },
  {
   "cell_type": "code",
   "execution_count": 47,
   "metadata": {},
   "outputs": [
    {
     "name": "stdout",
     "output_type": "stream",
     "text": [
      "52\n"
     ]
    }
   ],
   "source": [
    "#variable to track number of clases\n",
    "n = int(len(mapping) * 3/4)\n",
    "print(n)"
   ]
  },
  {
   "cell_type": "markdown",
   "metadata": {},
   "source": []
  },
  {
   "cell_type": "markdown",
   "metadata": {},
   "source": [
    "CNN model with transfer learning"
   ]
  },
  {
   "cell_type": "code",
   "execution_count": 8,
   "metadata": {},
   "outputs": [],
   "source": [
    "#imports\n",
    "#need to pip install torch here\n",
    "import numpy as np\n",
    "import torch\n",
    "import torch.nn as nn\n",
    "import torch.nn.functional as F\n",
    "import torch.optim as optim\n",
    "from PIL import Image"
   ]
  },
  {
   "cell_type": "code",
   "execution_count": 9,
   "metadata": {},
   "outputs": [],
   "source": [
    "class preLearnedFungaV1(nn.Module):\n",
    "    def __init__(self):\n",
    "        super(preLearnedFungaV1, self).__init__()\n",
    "        self.name = \"fungaV1\"\n",
    "        self.fc1 = nn.Linear(256*6*6, 256)\n",
    "        self.fc2 = nn.Linear(256, 128)\n",
    "        self.fc3 = nn.Linear(128, n)\n",
    "\n",
    "    def forward(self, x):\n",
    "        x = x.view(x.size(0), -1)\n",
    "        x = F.relu(self.fc1(x))\n",
    "        x = self.fc2(x)\n",
    "        x = F.relu(x)\n",
    "        x = self.fc3(x)\n",
    "        x = x.squeeze(1)  \n",
    "        return x"
   ]
  },
  {
   "cell_type": "markdown",
   "metadata": {},
   "source": [
    "Create training, validation and testing\n",
    "- apply the transfer learning here"
   ]
  },
  {
   "cell_type": "code",
   "execution_count": 10,
   "metadata": {},
   "outputs": [],
   "source": [
    "#need to install torchvision\n",
    "from torch.utils.data import TensorDataset\n",
    "from torchvision import transforms\n",
    "#adjust to 224 dimension (input to alexnet)\n",
    "transform = transforms.Compose([transforms.ToTensor(), transforms.Resize((224,224))])"
   ]
  },
  {
   "cell_type": "code",
   "execution_count": 11,
   "metadata": {},
   "outputs": [
    {
     "name": "stderr",
     "output_type": "stream",
     "text": [
      "c:\\Users\\Nicholas\\AppData\\Local\\Programs\\Python\\Python312\\Lib\\site-packages\\torchvision\\models\\_utils.py:208: UserWarning: The parameter 'pretrained' is deprecated since 0.13 and may be removed in the future, please use 'weights' instead.\n",
      "  warnings.warn(\n",
      "c:\\Users\\Nicholas\\AppData\\Local\\Programs\\Python\\Python312\\Lib\\site-packages\\torchvision\\models\\_utils.py:223: UserWarning: Arguments other than a weight enum or `None` for 'weights' are deprecated since 0.13 and may be removed in the future. The current behavior is equivalent to passing `weights=AlexNet_Weights.IMAGENET1K_V1`. You can also use `weights=AlexNet_Weights.DEFAULT` to get the most up-to-date weights.\n",
      "  warnings.warn(msg)\n"
     ]
    }
   ],
   "source": [
    "#use alexnet for now\n",
    "import torchvision.models\n",
    "alexnet = torchvision.models.alexnet(pretrained=True)"
   ]
  },
  {
   "cell_type": "code",
   "execution_count": 48,
   "metadata": {},
   "outputs": [
    {
     "name": "stdout",
     "output_type": "stream",
     "text": [
      "Total number of classes 52\n",
      "Start Transfer Learning Section: AlexNet feature extract for each class\n",
      "Class 1 out of 52\n",
      "Class 2 out of 52\n",
      "Class 3 out of 52\n",
      "Class 4 out of 52\n",
      "Class 5 out of 52\n",
      "Class 6 out of 52\n",
      "Class 7 out of 52\n"
     ]
    },
    {
     "ename": "MemoryError",
     "evalue": "",
     "output_type": "error",
     "traceback": [
      "\u001b[1;31m---------------------------------------------------------------------------\u001b[0m",
      "\u001b[1;31mMemoryError\u001b[0m                               Traceback (most recent call last)",
      "Cell \u001b[1;32mIn[48], line 14\u001b[0m\n\u001b[0;32m     12\u001b[0m \u001b[38;5;28;01mfor\u001b[39;00m img \u001b[38;5;129;01min\u001b[39;00m images:\n\u001b[0;32m     13\u001b[0m     newImg \u001b[38;5;241m=\u001b[39m Image\u001b[38;5;241m.\u001b[39mopen(img)\n\u001b[1;32m---> 14\u001b[0m     newImg \u001b[38;5;241m=\u001b[39m \u001b[43mtransform\u001b[49m\u001b[43m(\u001b[49m\u001b[43mnewImg\u001b[49m\u001b[43m)\u001b[49m\n\u001b[0;32m     15\u001b[0m     feat \u001b[38;5;241m=\u001b[39m alexnet\u001b[38;5;241m.\u001b[39mfeatures(newImg)\n\u001b[0;32m     16\u001b[0m     \u001b[38;5;28mdict\u001b[39m[key]\u001b[38;5;241m.\u001b[39mappend(feat)\n",
      "File \u001b[1;32mc:\\Users\\Nicholas\\AppData\\Local\\Programs\\Python\\Python312\\Lib\\site-packages\\torchvision\\transforms\\transforms.py:95\u001b[0m, in \u001b[0;36mCompose.__call__\u001b[1;34m(self, img)\u001b[0m\n\u001b[0;32m     93\u001b[0m \u001b[38;5;28;01mdef\u001b[39;00m \u001b[38;5;21m__call__\u001b[39m(\u001b[38;5;28mself\u001b[39m, img):\n\u001b[0;32m     94\u001b[0m     \u001b[38;5;28;01mfor\u001b[39;00m t \u001b[38;5;129;01min\u001b[39;00m \u001b[38;5;28mself\u001b[39m\u001b[38;5;241m.\u001b[39mtransforms:\n\u001b[1;32m---> 95\u001b[0m         img \u001b[38;5;241m=\u001b[39m \u001b[43mt\u001b[49m\u001b[43m(\u001b[49m\u001b[43mimg\u001b[49m\u001b[43m)\u001b[49m\n\u001b[0;32m     96\u001b[0m     \u001b[38;5;28;01mreturn\u001b[39;00m img\n",
      "File \u001b[1;32mc:\\Users\\Nicholas\\AppData\\Local\\Programs\\Python\\Python312\\Lib\\site-packages\\torchvision\\transforms\\transforms.py:137\u001b[0m, in \u001b[0;36mToTensor.__call__\u001b[1;34m(self, pic)\u001b[0m\n\u001b[0;32m    129\u001b[0m \u001b[38;5;28;01mdef\u001b[39;00m \u001b[38;5;21m__call__\u001b[39m(\u001b[38;5;28mself\u001b[39m, pic):\n\u001b[0;32m    130\u001b[0m \u001b[38;5;250m    \u001b[39m\u001b[38;5;124;03m\"\"\"\u001b[39;00m\n\u001b[0;32m    131\u001b[0m \u001b[38;5;124;03m    Args:\u001b[39;00m\n\u001b[0;32m    132\u001b[0m \u001b[38;5;124;03m        pic (PIL Image or numpy.ndarray): Image to be converted to tensor.\u001b[39;00m\n\u001b[1;32m   (...)\u001b[0m\n\u001b[0;32m    135\u001b[0m \u001b[38;5;124;03m        Tensor: Converted image.\u001b[39;00m\n\u001b[0;32m    136\u001b[0m \u001b[38;5;124;03m    \"\"\"\u001b[39;00m\n\u001b[1;32m--> 137\u001b[0m     \u001b[38;5;28;01mreturn\u001b[39;00m \u001b[43mF\u001b[49m\u001b[38;5;241;43m.\u001b[39;49m\u001b[43mto_tensor\u001b[49m\u001b[43m(\u001b[49m\u001b[43mpic\u001b[49m\u001b[43m)\u001b[49m\n",
      "File \u001b[1;32mc:\\Users\\Nicholas\\AppData\\Local\\Programs\\Python\\Python312\\Lib\\site-packages\\torchvision\\transforms\\functional.py:168\u001b[0m, in \u001b[0;36mto_tensor\u001b[1;34m(pic)\u001b[0m\n\u001b[0;32m    166\u001b[0m \u001b[38;5;66;03m# handle PIL Image\u001b[39;00m\n\u001b[0;32m    167\u001b[0m mode_to_nptype \u001b[38;5;241m=\u001b[39m {\u001b[38;5;124m\"\u001b[39m\u001b[38;5;124mI\u001b[39m\u001b[38;5;124m\"\u001b[39m: np\u001b[38;5;241m.\u001b[39mint32, \u001b[38;5;124m\"\u001b[39m\u001b[38;5;124mI;16\u001b[39m\u001b[38;5;124m\"\u001b[39m \u001b[38;5;28;01mif\u001b[39;00m sys\u001b[38;5;241m.\u001b[39mbyteorder \u001b[38;5;241m==\u001b[39m \u001b[38;5;124m\"\u001b[39m\u001b[38;5;124mlittle\u001b[39m\u001b[38;5;124m\"\u001b[39m \u001b[38;5;28;01melse\u001b[39;00m \u001b[38;5;124m\"\u001b[39m\u001b[38;5;124mI;16B\u001b[39m\u001b[38;5;124m\"\u001b[39m: np\u001b[38;5;241m.\u001b[39mint16, \u001b[38;5;124m\"\u001b[39m\u001b[38;5;124mF\u001b[39m\u001b[38;5;124m\"\u001b[39m: np\u001b[38;5;241m.\u001b[39mfloat32}\n\u001b[1;32m--> 168\u001b[0m img \u001b[38;5;241m=\u001b[39m torch\u001b[38;5;241m.\u001b[39mfrom_numpy(\u001b[43mnp\u001b[49m\u001b[38;5;241;43m.\u001b[39;49m\u001b[43marray\u001b[49m\u001b[43m(\u001b[49m\u001b[43mpic\u001b[49m\u001b[43m,\u001b[49m\u001b[43m \u001b[49m\u001b[43mmode_to_nptype\u001b[49m\u001b[38;5;241;43m.\u001b[39;49m\u001b[43mget\u001b[49m\u001b[43m(\u001b[49m\u001b[43mpic\u001b[49m\u001b[38;5;241;43m.\u001b[39;49m\u001b[43mmode\u001b[49m\u001b[43m,\u001b[49m\u001b[43m \u001b[49m\u001b[43mnp\u001b[49m\u001b[38;5;241;43m.\u001b[39;49m\u001b[43muint8\u001b[49m\u001b[43m)\u001b[49m\u001b[43m,\u001b[49m\u001b[43m \u001b[49m\u001b[43mcopy\u001b[49m\u001b[38;5;241;43m=\u001b[39;49m\u001b[38;5;28;43;01mTrue\u001b[39;49;00m\u001b[43m)\u001b[49m)\n\u001b[0;32m    170\u001b[0m \u001b[38;5;28;01mif\u001b[39;00m pic\u001b[38;5;241m.\u001b[39mmode \u001b[38;5;241m==\u001b[39m \u001b[38;5;124m\"\u001b[39m\u001b[38;5;124m1\u001b[39m\u001b[38;5;124m\"\u001b[39m:\n\u001b[0;32m    171\u001b[0m     img \u001b[38;5;241m=\u001b[39m \u001b[38;5;241m255\u001b[39m \u001b[38;5;241m*\u001b[39m img\n",
      "File \u001b[1;32mc:\\Users\\Nicholas\\AppData\\Local\\Programs\\Python\\Python312\\Lib\\site-packages\\PIL\\Image.py:742\u001b[0m, in \u001b[0;36mImage.__array_interface__\u001b[1;34m(self)\u001b[0m\n\u001b[0;32m    740\u001b[0m         new[\u001b[38;5;124m\"\u001b[39m\u001b[38;5;124mdata\u001b[39m\u001b[38;5;124m\"\u001b[39m] \u001b[38;5;241m=\u001b[39m \u001b[38;5;28mself\u001b[39m\u001b[38;5;241m.\u001b[39mtobytes(\u001b[38;5;124m\"\u001b[39m\u001b[38;5;124mraw\u001b[39m\u001b[38;5;124m\"\u001b[39m, \u001b[38;5;124m\"\u001b[39m\u001b[38;5;124mL\u001b[39m\u001b[38;5;124m\"\u001b[39m)\n\u001b[0;32m    741\u001b[0m     \u001b[38;5;28;01melse\u001b[39;00m:\n\u001b[1;32m--> 742\u001b[0m         new[\u001b[38;5;124m\"\u001b[39m\u001b[38;5;124mdata\u001b[39m\u001b[38;5;124m\"\u001b[39m] \u001b[38;5;241m=\u001b[39m \u001b[38;5;28;43mself\u001b[39;49m\u001b[38;5;241;43m.\u001b[39;49m\u001b[43mtobytes\u001b[49m\u001b[43m(\u001b[49m\u001b[43m)\u001b[49m\n\u001b[0;32m    743\u001b[0m \u001b[38;5;28;01mexcept\u001b[39;00m \u001b[38;5;167;01mException\u001b[39;00m \u001b[38;5;28;01mas\u001b[39;00m e:\n\u001b[0;32m    744\u001b[0m     \u001b[38;5;28;01mif\u001b[39;00m \u001b[38;5;129;01mnot\u001b[39;00m \u001b[38;5;28misinstance\u001b[39m(e, (\u001b[38;5;167;01mMemoryError\u001b[39;00m, \u001b[38;5;167;01mRecursionError\u001b[39;00m)):\n",
      "File \u001b[1;32mc:\\Users\\Nicholas\\AppData\\Local\\Programs\\Python\\Python312\\Lib\\site-packages\\PIL\\Image.py:823\u001b[0m, in \u001b[0;36mImage.tobytes\u001b[1;34m(self, encoder_name, *args)\u001b[0m\n\u001b[0;32m    820\u001b[0m     msg \u001b[38;5;241m=\u001b[39m \u001b[38;5;124mf\u001b[39m\u001b[38;5;124m\"\u001b[39m\u001b[38;5;124mencoder error \u001b[39m\u001b[38;5;132;01m{\u001b[39;00merrcode\u001b[38;5;132;01m}\u001b[39;00m\u001b[38;5;124m in tobytes\u001b[39m\u001b[38;5;124m\"\u001b[39m\n\u001b[0;32m    821\u001b[0m     \u001b[38;5;28;01mraise\u001b[39;00m \u001b[38;5;167;01mRuntimeError\u001b[39;00m(msg)\n\u001b[1;32m--> 823\u001b[0m \u001b[38;5;28;01mreturn\u001b[39;00m \u001b[38;5;124;43mb\u001b[39;49m\u001b[38;5;124;43m\"\u001b[39;49m\u001b[38;5;124;43m\"\u001b[39;49m\u001b[38;5;241;43m.\u001b[39;49m\u001b[43mjoin\u001b[49m\u001b[43m(\u001b[49m\u001b[43moutput\u001b[49m\u001b[43m)\u001b[49m\n",
      "\u001b[1;31mMemoryError\u001b[0m: "
     ]
    }
   ],
   "source": [
    "#running this takes a long time, only do it after set.csv is fixed\n",
    "dict = {}\n",
    "print(f\"Total number of classes {n}\")\n",
    "print(\"Start Transfer Learning Section: AlexNet feature extract for each class\")\n",
    "iterCount = 1\n",
    "\n",
    "for key, images in mapping.items():\n",
    "    if iterCount > n:\n",
    "        break\n",
    "    print(f\"Class {iterCount} out of {n}\")\n",
    "    dict[key] = []\n",
    "    for img in images:\n",
    "        newImg = Image.open(img)\n",
    "        newImg = transform(newImg)\n",
    "        feat = alexnet.features(newImg)\n",
    "        dict[key].append(feat)\n",
    "    iterCount += 1\n"
   ]
  },
  {
   "cell_type": "code",
   "execution_count": 14,
   "metadata": {},
   "outputs": [
    {
     "name": "stdout",
     "output_type": "stream",
     "text": [
      "35\n"
     ]
    }
   ],
   "source": [
    "#change from str key to numerical key\n",
    "mappingStrToInt = {idx: value for idx, (key, value) in enumerate(dict.items())}\n",
    "print(len(mappingStrToInt))"
   ]
  },
  {
   "cell_type": "code",
   "execution_count": 15,
   "metadata": {},
   "outputs": [
    {
     "name": "stdout",
     "output_type": "stream",
     "text": [
      "35\n"
     ]
    }
   ],
   "source": [
    "#numerical dictionary\n",
    "numericalDict = {}\n",
    "for idx, (key, value) in enumerate(dict.items()):\n",
    "    numericalDict[idx] = value\n",
    "print(len(numericalDict))"
   ]
  },
  {
   "cell_type": "code",
   "execution_count": 16,
   "metadata": {},
   "outputs": [
    {
     "name": "stdout",
     "output_type": "stream",
     "text": [
      "Running data dictionary\n",
      "Complete Running Data Dictionary\n"
     ]
    }
   ],
   "source": [
    "# Split data into training, validation, and testing sets\n",
    "tData, tLabel = [], []\n",
    "vData, vLabel = [], []\n",
    "testingData, testingLabel = [], []\n",
    "\n",
    "print(\"Running data dictionary\")\n",
    "numIter = 1\n",
    "#0.75 training, 0.15 valdiation, 0.10 for testing\n",
    "for key, values in numericalDict.items():\n",
    "    if numIter > n:\n",
    "        break\n",
    "    numTrain = int(len(values) * 0.75)\n",
    "    numVal = int(len(values) * 0.15)\n",
    "\n",
    "    tLabel.extend([key] * numTrain)\n",
    "    vLabel.extend([key] * numVal)\n",
    "    testingLabel.extend([key] * (len(values) - numTrain - numVal))\n",
    "\n",
    "    tData.extend(values[:numTrain])\n",
    "    vData.extend(values[numTrain:numTrain + numVal])\n",
    "    testingData.extend(values[numTrain + numVal:])\n",
    "\n",
    "    numIter += 1\n",
    "print(\"Complete Running Data Dictionary\")\n",
    "tTensor = torch.stack(tData)\n",
    "vTensor = torch.stack(vData)\n",
    "testingTensor = torch.stack(testingData)\n",
    "\n",
    "tLabelTensor = torch.tensor(tLabel)\n",
    "vLabelTensor = torch.tensor(vLabel)\n",
    "testingLabelTensor = torch.tensor(testingLabel)\n",
    "\n",
    "train_set = TensorDataset(tTensor, tLabelTensor)\n",
    "validation_set = TensorDataset(vTensor, vLabelTensor)\n",
    "test_set = TensorDataset(testingTensor, testingLabelTensor)"
   ]
  },
  {
   "cell_type": "code",
   "execution_count": 17,
   "metadata": {},
   "outputs": [
    {
     "name": "stdout",
     "output_type": "stream",
     "text": [
      "tTensor shape: torch.Size([18169, 256, 6, 6])\n",
      "vTensor shape: torch.Size([3619, 256, 6, 6])\n",
      "testingTensor shape: torch.Size([2443, 256, 6, 6])\n"
     ]
    }
   ],
   "source": [
    "print(f'tTensor shape: {tTensor.shape}')\n",
    "print(f'vTensor shape: {vTensor.shape}')\n",
    "print(f'testingTensor shape: {testingTensor.shape}')"
   ]
  },
  {
   "cell_type": "code",
   "execution_count": 18,
   "metadata": {},
   "outputs": [
    {
     "name": "stdout",
     "output_type": "stream",
     "text": [
      "18169\n",
      "3619\n",
      "2443\n"
     ]
    }
   ],
   "source": [
    "#testing if train, validation, and test sets work\n",
    "print(len(train_set))\n",
    "print(len(validation_set))\n",
    "print(len(test_set))"
   ]
  },
  {
   "cell_type": "markdown",
   "metadata": {},
   "source": [
    "Data Loading"
   ]
  },
  {
   "cell_type": "code",
   "execution_count": 19,
   "metadata": {},
   "outputs": [],
   "source": [
    "#customized data_loading function with variable batch size\n",
    "import torch\n",
    "def dataLoadFunction(BatchSize):\n",
    "  train_load = torch.utils.data.DataLoader(train_set, batch_size = BatchSize, shuffle=True)\n",
    "  validation_load = torch.utils.data.DataLoader(validation_set, batch_size = BatchSize)\n",
    "  testing_load = torch.utils.data.DataLoader(test_set, batch_size = BatchSize)\n",
    "  return train_load, validation_load, testing_load"
   ]
  },
  {
   "cell_type": "markdown",
   "metadata": {},
   "source": [
    "Training code"
   ]
  },
  {
   "cell_type": "code",
   "execution_count": 20,
   "metadata": {},
   "outputs": [],
   "source": [
    "def getValidationLoss(net, validation_loader, criterion):\n",
    "  n = len(validation_loader)\n",
    "  totalLoss = 0\n",
    "  for i, data in enumerate(validation_loader):\n",
    "    inputs, labels = data\n",
    "    outputs = net(inputs)\n",
    "    loss = criterion(outputs, labels)\n",
    "    totalLoss += loss.item()\n",
    "  totalLoss = totalLoss / n\n",
    "  return totalLoss\n",
    "\n",
    "#model name\n",
    "def get_model_name(name, batch_size, lr, epoch):\n",
    "    path = \"model_{0}_bs{1}_lr{2}_epoch{3}\".format(name, batch_size, lr, epoch)\n",
    "    return path\n",
    "\n",
    "#plotting helper function\n",
    "import matplotlib.pyplot as plt\n",
    "#plot image function\n",
    "#modified from lab 2\n",
    "def plot_training_curve(path):\n",
    "    train_loss = np.loadtxt(\"{}_train_loss.csv\".format(path))\n",
    "    val_loss = np.loadtxt(\"{}_val_loss.csv\".format(path))\n",
    "    n = len(train_loss)\n",
    "    #plot model\n",
    "    plt.title(\"Train vs Validation Loss\")\n",
    "    plt.plot(range(1,n+1), train_loss, label=\"Train\")\n",
    "    plt.plot(range(1,n+1), val_loss, label=\"Validation\")\n",
    "    plt.xlabel(\"Epoch\")\n",
    "    plt.ylabel(\"Loss\")\n",
    "    plt.legend(loc='best')\n",
    "    plt.show()"
   ]
  },
  {
   "cell_type": "code",
   "execution_count": 21,
   "metadata": {},
   "outputs": [],
   "source": [
    "allClasses = []\n",
    "#^need to loop through all classes in mapping (later problem)"
   ]
  },
  {
   "cell_type": "code",
   "execution_count": 22,
   "metadata": {},
   "outputs": [],
   "source": [
    "import time"
   ]
  },
  {
   "cell_type": "code",
   "execution_count": 24,
   "metadata": {},
   "outputs": [],
   "source": [
    "def train_net_TL(net, batchsize=24, learning_rate=0.007, num_epochs=12): #values here are defaults, should* be overwritten when called\n",
    "\n",
    "  torch.manual_seed(1)\n",
    "\n",
    "  target_classes = allClasses #defined in last part\n",
    "\n",
    "  criterion = nn.CrossEntropyLoss()\n",
    "  optimizer = optim.SGD(net.parameters(), lr=learning_rate, momentum=0.8)\n",
    "\n",
    "  training_loader, validation_loader, _ = dataLoadFunction(batchsize)\n",
    "\n",
    "  train_loss_graph = np.zeros(num_epochs)\n",
    "  val_loss_graph = np.zeros(num_epochs)\n",
    "\n",
    "  n = len(training_loader)\n",
    "  startTime = time.time()\n",
    "  for currepoch in range(num_epochs):\n",
    "    #print(\"New epoch\")\n",
    "    trainLoss = 0\n",
    "    #net.train()\n",
    "    for i, (inputs, labels) in enumerate(training_loader):\n",
    "      optimizer.zero_grad()\n",
    "\n",
    "      inputs = torch.tensor(inputs.detach().numpy()).to(inputs.device)\n",
    "      outputs = net(inputs)\n",
    "\n",
    "      loss = criterion(outputs, labels)\n",
    "      loss.backward()\n",
    "      optimizer.step()\n",
    "      trainLoss += loss.item()\n",
    "\n",
    "    #print(\"Onto validation\")\n",
    "    #net.eval()\n",
    "    train_loss_graph[currepoch] = trainLoss/n\n",
    "    val_loss_graph[currepoch] = getValidationLoss(net, validation_loader, criterion)\n",
    "\n",
    "    print(f\"Epoch: {currepoch} Training Loss: {train_loss_graph[currepoch]:.2f}, Validation Loss: {val_loss_graph[currepoch]:.2f}, Time: {time.time() - startTime:.2f} seconds\")\n",
    "\n",
    "    model_path = get_model_name(net.name, batchsize, learning_rate, currepoch)\n",
    "    torch.save(net.state_dict(), model_path)\n",
    "    path = \"model_{0}_bs{1}_lr{2}_epoch{3}\".format(net.name, batchsize, learning_rate, num_epochs)\n",
    "    np.savetxt(\"tmp/{}_train_loss.csv\".format(path), train_loss_graph)\n",
    "    np.savetxt(\"tmp/{}_val_loss.csv\".format(path), val_loss_graph)\n",
    "  print(\"Total time: \", time.time()-startTime)\n",
    "\n",
    "  path = \"model_{0}_bs{1}_lr{2}_epoch{3}\".format(net.name, batchsize, learning_rate, num_epochs)\n",
    "  np.savetxt(\"tmp/{}_train_loss.csv\".format(path), train_loss_graph)\n",
    "  np.savetxt(\"tmp/{}_val_loss.csv\".format(path), val_loss_graph)"
   ]
  },
  {
   "cell_type": "markdown",
   "metadata": {},
   "source": [
    "Training here"
   ]
  },
  {
   "cell_type": "code",
   "execution_count": 39,
   "metadata": {},
   "outputs": [],
   "source": [
    "#global variabls - so you don't have to modify them everywhere\n",
    "BATCH_SIZE = 36\n",
    "NUM_EPOCHS = 2\n",
    "LEARNING_RATE = 0.007"
   ]
  },
  {
   "cell_type": "code",
   "execution_count": 43,
   "metadata": {},
   "outputs": [
    {
     "name": "stdout",
     "output_type": "stream",
     "text": [
      "Epoch: 0 Training Loss: 1.57, Validation Loss: 1.46, Time: 2.93 seconds\n",
      "Epoch: 1 Training Loss: 0.57, Validation Loss: 1.19, Time: 5.88 seconds\n",
      "Total time:  5.896636247634888\n"
     ]
    }
   ],
   "source": [
    "net3TL = preLearnedFungaV1()\n",
    "train_net_TL(net3TL, batchsize=BATCH_SIZE, num_epochs=NUM_EPOCHS)"
   ]
  },
  {
   "cell_type": "code",
   "execution_count": 45,
   "metadata": {},
   "outputs": [
    {
     "data": {
      "image/png": "[encoded data removed]",
      "text/plain": [
       "<Figure size 640x480 with 1 Axes>"
      ]
     },
     "metadata": {},
     "output_type": "display_data"
    }
   ],
   "source": [
    "#plot curve here\n",
    "plot_training_curve(\"model_{0}_bs{1}_lr{2}_epoch{3}\".format(\"fungaV1\", BATCH_SIZE, LEARNING_RATE, 2))"
   ]
  },
  {
   "cell_type": "markdown",
   "metadata": {},
   "source": [
    "Test model"
   ]
  },
  {
   "cell_type": "code",
   "execution_count": 32,
   "metadata": {},
   "outputs": [],
   "source": [
    "#test accuracy function\n",
    "def getAccuracy(net, loader):\n",
    "  correct, count = 0, 0\n",
    "\n",
    "  #no gradient modification\n",
    "  with torch.no_grad():\n",
    "    print(\"Total number of batches: \", len(loader))\n",
    "    for currbatch, (i, corr) in enumerate(loader):\n",
    "      count += corr.shape[0]\n",
    "      print(\"CurrBatch: \", currbatch+1)\n",
    "\n",
    "      correct += (torch.max(net(i), 1)[1] == corr).sum().item()\n",
    "\n",
    "  return correct / count"
   ]
  },
  {
   "cell_type": "code",
   "execution_count": 46,
   "metadata": {},
   "outputs": [
    {
     "name": "stdout",
     "output_type": "stream",
     "text": [
      "Total number of batches:  102\n",
      "CurrBatch:  1\n",
      "CurrBatch:  2\n",
      "CurrBatch:  3\n",
      "CurrBatch:  4\n",
      "CurrBatch:  5\n",
      "CurrBatch:  6\n",
      "CurrBatch:  7\n",
      "CurrBatch:  8\n",
      "CurrBatch:  9\n",
      "CurrBatch:  10\n",
      "CurrBatch:  11\n",
      "CurrBatch:  12\n",
      "CurrBatch:  13\n",
      "CurrBatch:  14\n",
      "CurrBatch:  15\n",
      "CurrBatch:  16\n",
      "CurrBatch:  17\n",
      "CurrBatch:  18\n",
      "CurrBatch:  19\n",
      "CurrBatch:  20\n",
      "CurrBatch:  21\n",
      "CurrBatch:  22\n",
      "CurrBatch:  23\n",
      "CurrBatch:  24\n",
      "CurrBatch:  25\n",
      "CurrBatch:  26\n",
      "CurrBatch:  27\n",
      "CurrBatch:  28\n",
      "CurrBatch:  29\n",
      "CurrBatch:  30\n",
      "CurrBatch:  31\n",
      "CurrBatch:  32\n",
      "CurrBatch:  33\n",
      "CurrBatch:  34\n",
      "CurrBatch:  35\n",
      "CurrBatch:  36\n",
      "CurrBatch:  37\n",
      "CurrBatch:  38\n",
      "CurrBatch:  39\n",
      "CurrBatch:  40\n",
      "CurrBatch:  41\n",
      "CurrBatch:  42\n",
      "CurrBatch:  43\n",
      "CurrBatch:  44\n",
      "CurrBatch:  45\n",
      "CurrBatch:  46\n",
      "CurrBatch:  47\n",
      "CurrBatch:  48\n",
      "CurrBatch:  49\n",
      "CurrBatch:  50\n",
      "CurrBatch:  51\n",
      "CurrBatch:  52\n",
      "CurrBatch:  53\n",
      "CurrBatch:  54\n",
      "CurrBatch:  55\n",
      "CurrBatch:  56\n",
      "CurrBatch:  57\n",
      "CurrBatch:  58\n",
      "CurrBatch:  59\n",
      "CurrBatch:  60\n",
      "CurrBatch:  61\n",
      "CurrBatch:  62\n",
      "CurrBatch:  63\n",
      "CurrBatch:  64\n",
      "CurrBatch:  65\n",
      "CurrBatch:  66\n",
      "CurrBatch:  67\n",
      "CurrBatch:  68\n",
      "CurrBatch:  69\n",
      "CurrBatch:  70\n",
      "CurrBatch:  71\n",
      "CurrBatch:  72\n",
      "CurrBatch:  73\n",
      "CurrBatch:  74\n",
      "CurrBatch:  75\n",
      "CurrBatch:  76\n",
      "CurrBatch:  77\n",
      "CurrBatch:  78\n",
      "CurrBatch:  79\n",
      "CurrBatch:  80\n",
      "CurrBatch:  81\n",
      "CurrBatch:  82\n",
      "CurrBatch:  83\n",
      "CurrBatch:  84\n",
      "CurrBatch:  85\n",
      "CurrBatch:  86\n",
      "CurrBatch:  87\n",
      "CurrBatch:  88\n",
      "CurrBatch:  89\n",
      "CurrBatch:  90\n",
      "CurrBatch:  91\n",
      "CurrBatch:  92\n",
      "CurrBatch:  93\n",
      "CurrBatch:  94\n",
      "CurrBatch:  95\n",
      "CurrBatch:  96\n",
      "CurrBatch:  97\n",
      "CurrBatch:  98\n",
      "CurrBatch:  99\n",
      "CurrBatch:  100\n",
      "CurrBatch:  101\n",
      "CurrBatch:  102\n",
      "Test Classification Accuracy:  0.6021285304952927\n"
     ]
    }
   ],
   "source": [
    "\n",
    "bestNet = preLearnedFungaV1()\n",
    "model_path = get_model_name(\"fungaV1\", batch_size=BATCH_SIZE, lr=LEARNING_RATE, epoch=(2))\n",
    "state = torch.load(model_path)\n",
    "bestNet.load_state_dict(state)\n",
    "\n",
    "_,_, testLoad = dataLoadFunction(24)\n",
    "\n",
    "dataLoad = testLoad\n",
    "\n",
    "accuracy = getAccuracy(bestNet, dataLoad)\n",
    "print(\"Test Classification Accuracy: \", accuracy)"
   ]
  }
 ],
 "metadata": {
  "kernelspec": {
   "display_name": "Python 3",
   "language": "python",
   "name": "python3"
  },
  "language_info": {
   "codemirror_mode": {
    "name": "ipython",
    "version": 3
   },
   "file_extension": ".py",
   "mimetype": "text/x-python",
   "name": "python",
   "nbconvert_exporter": "python",
   "pygments_lexer": "ipython3",
   "version": "3.12.4"
  }
 },
 "nbformat": 4,
 "nbformat_minor": 2
}

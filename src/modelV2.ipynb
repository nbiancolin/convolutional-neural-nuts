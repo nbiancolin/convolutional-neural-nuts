{
 "cells": [
  {
   "cell_type": "code",
   "execution_count": 1,
   "metadata": {},
   "outputs": [],
   "source": [
    "import pandas as pd\n",
    "import numpy as np"
   ]
  },
  {
   "cell_type": "markdown",
   "metadata": {},
   "source": [
    "Substitute for own data path"
   ]
  },
  {
   "cell_type": "code",
   "execution_count": 2,
   "metadata": {},
   "outputs": [
    {
     "name": "stdout",
     "output_type": "stream",
     "text": [
      "successfully retrieved csv file\n"
     ]
    }
   ],
   "source": [
    "df = pd.read_csv(r'C:\\Users\\eric7\\OneDrive\\Desktop\\aps360Project\\convolutional-neural-nuts\\data\\set.csv')\n",
    "print(\"successfully retrieved csv file\")"
   ]
  },
  {
   "cell_type": "markdown",
   "metadata": {},
   "source": [
    "IN CSV files, formate as [path:genus]\n",
    "Created a dictionary that has keys as genus, and items as image paths"
   ]
  },
  {
   "cell_type": "code",
   "execution_count": 3,
   "metadata": {},
   "outputs": [],
   "source": [
    "grouped = df.groupby('Genus')['Path'].apply(list).to_dict()\n",
    "\n",
    "mapping = {key: np.array(value) for key, value in grouped.items()}"
   ]
  },
  {
   "cell_type": "markdown",
   "metadata": {},
   "source": [
    "Analysis of data\n",
    "- help decide cnn approach\n",
    "- all data in a numpy dictionary called mapping"
   ]
  },
  {
   "cell_type": "code",
   "execution_count": 4,
   "metadata": {},
   "outputs": [
    {
     "name": "stdout",
     "output_type": "stream",
     "text": [
      "number of classes: 70\n"
     ]
    }
   ],
   "source": [
    "print(f\"number of classes: {len(mapping)}\")"
   ]
  },
  {
   "cell_type": "code",
   "execution_count": 6,
   "metadata": {},
   "outputs": [
    {
     "name": "stdout",
     "output_type": "stream",
     "text": [
      "Class name: Amanita, number of images: 7\n",
      "Class name: Amauroderma, number of images: 11\n",
      "Class name: Antrodia, number of images: 8\n",
      "Class name: Aurantiopileus, number of images: 14\n",
      "Class name: Auricularia, number of images: 11\n",
      "Class name: Boletinellus, number of images: 12\n",
      "Class name: Brunneocorticium, number of images: 16\n",
      "Class name: Calocera, number of images: 8\n",
      "Class name: Calvatia, number of images: 8\n",
      "Class name: Camillea, number of images: 8\n",
      "Class name: Chlorophyllum, number of images: 13\n",
      "Class name: Clavaria, number of images: 8\n",
      "Class name: Cookeina, number of images: 8\n",
      "Class name: Coprinellus, number of images: 11\n",
      "Class name: Cordierites, number of images: 11\n",
      "Class name: Coriolopsis, number of images: 11\n",
      "Class name: Cotylidia, number of images: 9\n",
      "Class name: Cyathus, number of images: 7\n",
      "Class name: Cymatoderma, number of images: 11\n",
      "Class name: Cyptotrama, number of images: 10\n",
      "Class name: Dacryopinax, number of images: 11\n",
      "Class name: Dicephalospora, number of images: 14\n",
      "Class name: Encoelia, number of images: 8\n",
      "Class name: Entoloma, number of images: 8\n",
      "Class name: Erioscyphella, number of images: 13\n",
      "Class name: Favolus, number of images: 7\n",
      "Class name: Filoboletus, number of images: 11\n",
      "Class name: Flaviporus, number of images: 10\n",
      "Class name: Fomitiporia, number of images: 11\n",
      "Class name: Funalia, number of images: 7\n",
      "Class name: Fuscoporia, number of images: 10\n",
      "Class name: Ganoderma, number of images: 9\n",
      "Class name: Geastrum, number of images: 8\n",
      "Class name: Gymnopus, number of images: 8\n",
      "Class name: Hexagonia, number of images: 9\n",
      "Class name: Hydropus, number of images: 8\n",
      "Class name: Hygroaster, number of images: 10\n",
      "Class name: Hygrocybe, number of images: 9\n",
      "Class name: Hymenochaete, number of images: 12\n",
      "Class name: Ionomidotis, number of images: 11\n",
      "Class name: Lentinus, number of images: 8\n",
      "Class name: Leucocoprinus, number of images: 13\n",
      "Class name: Marasmiellus, number of images: 12\n",
      "Class name: Marasmius, number of images: 9\n",
      "Class name: Microglossum, number of images: 12\n",
      "Class name: Mycocitrus, number of images: 10\n",
      "Class name: Myriostoma, number of images: 10\n",
      "Class name: Ophiocordyceps, number of images: 14\n",
      "Class name: Oudemansiella, number of images: 13\n",
      "Class name: Panaeolus, number of images: 9\n",
      "Class name: Panus, number of images: 5\n",
      "Class name: Penicilliopsis, number of images: 14\n",
      "Class name: Phallus, number of images: 7\n",
      "Class name: Phillipsia, number of images: 10\n",
      "Class name: Pleurotus, number of images: 9\n",
      "Class name: Pluteus, number of images: 7\n",
      "Class name: Pycnoporus, number of images: 10\n",
      "Class name: Rigidoporus, number of images: 11\n",
      "Class name: Schizophyllum, number of images: 13\n",
      "Class name: Scutellinia, number of images: 11\n",
      "Class name: Steccherinum, number of images: 12\n",
      "Class name: Stereum, number of images: 7\n",
      "Class name: Tetrapyrgos, number of images: 11\n",
      "Class name: Thamnomyces, number of images: 11\n",
      "Class name: Trametes, number of images: 8\n",
      "Class name: Trichaptum, number of images: 10\n",
      "Class name: Trogia, number of images: 6\n",
      "Class name: Volvariella, number of images: 11\n",
      "Class name: Xeromphalina, number of images: 12\n",
      "Class name: Xylaria, number of images: 7\n"
     ]
    }
   ],
   "source": [
    "for dict_keys in mapping.keys():\n",
    "    print(f\"Class name: {dict_keys}, number of images: {len(dict_keys)}\")"
   ]
  },
  {
   "cell_type": "markdown",
   "metadata": {},
   "source": []
  }
 ],
 "metadata": {
  "kernelspec": {
   "display_name": "Python 3",
   "language": "python",
   "name": "python3"
  },
  "language_info": {
   "codemirror_mode": {
    "name": "ipython",
    "version": 3
   },
   "file_extension": ".py",
   "mimetype": "text/x-python",
   "name": "python",
   "nbconvert_exporter": "python",
   "pygments_lexer": "ipython3",
   "version": "3.12.1"
  }
 },
 "nbformat": 4,
 "nbformat_minor": 2
}

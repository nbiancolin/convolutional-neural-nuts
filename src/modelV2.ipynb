{
 "cells": [
  {
   "cell_type": "markdown",
   "metadata": {},
   "source": [
    "File No longer In Use!!!\n",
    "\n",
    "1. preprocessing. ipynb\n",
    "2. transferLearning.ipynb\n",
    "3. trainModel.ipynb"
   ]
  },
  {
   "cell_type": "code",
   "execution_count": 2,
   "metadata": {},
   "outputs": [],
   "source": [
    "import pandas as pd\n",
    "import numpy as np"
   ]
  },
  {
   "cell_type": "markdown",
   "metadata": {},
   "source": [
    "Substitute for own data path"
   ]
  },
  {
   "cell_type": "code",
   "execution_count": 3,
   "metadata": {},
   "outputs": [
    {
     "name": "stdout",
     "output_type": "stream",
     "text": [
      "successfully retrieved csv file\n"
     ]
    }
   ],
   "source": [
    "#df = pd.read_csv(r'C:\\Users\\eric7\\OneDrive\\Desktop\\aps360Project\\convolutional-neural-nuts\\data\\set.csv')\n",
    "df = pd.read_csv(\"../data/set.csv\")\n",
    "print(\"successfully retrieved csv file\")"
   ]
  },
  {
   "cell_type": "markdown",
   "metadata": {},
   "source": [
    "IN CSV files, formate as [path:genus]\n",
    "Created a dictionary that has keys as genus, and items as image paths"
   ]
  },
  {
   "cell_type": "code",
   "execution_count": 4,
   "metadata": {},
   "outputs": [],
   "source": [
    "grouped = df.groupby('Genus')['Path'].apply(list).to_dict()\n",
    "\n",
    "mapping = {key: np.array(value) for key, value in grouped.items()}"
   ]
  },
  {
   "cell_type": "markdown",
   "metadata": {},
   "source": [
    "Analysis of data\n",
    "- help decide cnn approach\n",
    "- all data in a numpy dictionary called mapping"
   ]
  },
  {
   "cell_type": "code",
   "execution_count": 5,
   "metadata": {},
   "outputs": [
    {
     "name": "stdout",
     "output_type": "stream",
     "text": [
      "number of classes: 10\n"
     ]
    }
   ],
   "source": [
    "print(f\"number of classes: {len(mapping)}\")"
   ]
  },
  {
   "cell_type": "code",
   "execution_count": 6,
   "metadata": {},
   "outputs": [
    {
     "name": "stdout",
     "output_type": "stream",
     "text": [
      "Class name: Cookeina tricholoma, number of images: 1703\n",
      "Class name: Coprinellus disseminatus, number of images: 912\n",
      "Class name: Cyathus sp, number of images: 872\n",
      "Class name: Filoboletus gracilis, number of images: 783\n",
      "Class name: Hygrocybe trinitensis complexo, number of images: 919\n",
      "Class name: Marasmius amazonicus, number of images: 2856\n",
      "Class name: Oudemansiella cubensis, number of images: 984\n",
      "Class name: Phallus indusiatus complex, number of images: 1328\n",
      "Class name: Pycnoporus sanguineus, number of images: 951\n",
      "Class name: Schizophyllum commune, number of images: 1008\n",
      "More than 75: 10\n",
      "Less Than 75: 0\n",
      "Total Images 12316\n"
     ]
    }
   ],
   "source": [
    "LessThan75 = 0\n",
    "MoreThan75 = 0\n",
    "totalCount = 0\n",
    "for dict_keys in mapping.keys():\n",
    "    totalCount += len(mapping[dict_keys])\n",
    "    if len(mapping[dict_keys]) > 75:\n",
    "        print(f\"Class name: {dict_keys}, number of images: {len(mapping[dict_keys])}\")\n",
    "        MoreThan75 += 1\n",
    "    else:\n",
    "        LessThan75 += 1\n",
    "print(f\"More than 75: {MoreThan75}\")\n",
    "print(f\"Less Than 75: {LessThan75}\")\n",
    "print(f\"Total Images {totalCount}\")"
   ]
  },
  {
   "cell_type": "code",
   "execution_count": 7,
   "metadata": {},
   "outputs": [
    {
     "name": "stdout",
     "output_type": "stream",
     "text": [
      "10\n"
     ]
    }
   ],
   "source": [
    "#variable to track number of clases\n",
    "#n = int(len(mapping) * 3/4)\n",
    "n=10\n",
    "print(n)"
   ]
  },
  {
   "cell_type": "markdown",
   "metadata": {},
   "source": []
  },
  {
   "cell_type": "markdown",
   "metadata": {},
   "source": [
    "CNN model with transfer learning"
   ]
  },
  {
   "cell_type": "code",
   "execution_count": 8,
   "metadata": {},
   "outputs": [],
   "source": [
    "#imports\n",
    "#need to pip install torch here\n",
    "import numpy as np\n",
    "import torch\n",
    "import torch.nn as nn\n",
    "import torch.nn.functional as F\n",
    "import torch.optim as optim\n",
    "from PIL import Image"
   ]
  },
  {
   "cell_type": "code",
   "execution_count": 10,
   "metadata": {},
   "outputs": [],
   "source": [
    "#modify structure for dropout implementation\n",
    "\n",
    "class preLearnedFungaV1(nn.Module):\n",
    "    def __init__(self):\n",
    "        super(preLearnedFungaV1, self).__init__()\n",
    "        self.name = \"fungaV1\"\n",
    "        #added anther convolution channel before fc layers\n",
    "        self.conv1 = nn.Conv2d(256, 128, 3, 1, 1)\n",
    "        self.fc1 = nn.Linear(128*6*6, 256)\n",
    "        self.fc2 = nn.Linear(256, 128)\n",
    "        self.fc3 = nn.Linear(128, n)\n",
    "\n",
    "        #dropout implementation\n",
    "        self.dropout1 = nn.Dropout(0.1)\n",
    "        self.dropout2 = nn.Dropout(0.1)\n",
    "        self.dropout3 = nn.Dropout(0.1)\n",
    "        self.dropout4 = nn.Dropout(0.1)\n",
    "\n",
    "    def forward(self, x):\n",
    "        x = self.conv1(x)\n",
    "        x = F.relu(x)\n",
    "        x = self.dropout1(x)\n",
    "        x = x.view(x.size(0), -1)\n",
    "\n",
    "        #FC layers\n",
    "        x = self.dropout2(x)\n",
    "        x = F.relu(self.fc1(x))\n",
    "        \n",
    "        x = self.dropout3(x)\n",
    "        x = F.relu(self.fc2(x))\n",
    "\n",
    "        x = self.dropout4(x)\n",
    "        x = self.fc3(x)\n",
    "        x = x.squeeze(1)  \n",
    "        return x"
   ]
  },
  {
   "cell_type": "markdown",
   "metadata": {},
   "source": [
    "Create training, validation and testing\n",
    "- apply the transfer learning here"
   ]
  },
  {
   "cell_type": "code",
   "execution_count": 11,
   "metadata": {},
   "outputs": [],
   "source": [
    "#need to install torchvision\n",
    "from torch.utils.data import TensorDataset\n",
    "from torchvision import transforms\n",
    "#adjust to 224 dimension (input to alexnet)\n",
    "transform = transforms.Compose([transforms.ToTensor(), transforms.Resize((224,224))])"
   ]
  },
  {
   "cell_type": "code",
   "execution_count": 12,
   "metadata": {},
   "outputs": [
    {
     "name": "stderr",
     "output_type": "stream",
     "text": [
      "c:\\Users\\eric7\\AppData\\Local\\Programs\\Python\\Python312\\Lib\\site-packages\\torchvision\\models\\_utils.py:208: UserWarning: The parameter 'pretrained' is deprecated since 0.13 and may be removed in the future, please use 'weights' instead.\n",
      "  warnings.warn(\n",
      "c:\\Users\\eric7\\AppData\\Local\\Programs\\Python\\Python312\\Lib\\site-packages\\torchvision\\models\\_utils.py:223: UserWarning: Arguments other than a weight enum or `None` for 'weights' are deprecated since 0.13 and may be removed in the future. The current behavior is equivalent to passing `weights=AlexNet_Weights.IMAGENET1K_V1`. You can also use `weights=AlexNet_Weights.DEFAULT` to get the most up-to-date weights.\n",
      "  warnings.warn(msg)\n"
     ]
    }
   ],
   "source": [
    "#use alexnet\n",
    "import torchvision.models\n",
    "alexnet = torchvision.models.alexnet(pretrained=True)"
   ]
  },
  {
   "cell_type": "code",
   "execution_count": 13,
   "metadata": {},
   "outputs": [
    {
     "name": "stdout",
     "output_type": "stream",
     "text": [
      "Total number of classes 10\n",
      "Start Transfer Learning Section: AlexNet feature extract for each class\n",
      "Class 1 out of 10\n",
      "Class 2 out of 10\n",
      "Class 3 out of 10\n",
      "Class 4 out of 10\n",
      "Class 5 out of 10\n",
      "Class 6 out of 10\n",
      "Class 7 out of 10\n",
      "Class 8 out of 10\n",
      "Class 9 out of 10\n",
      "Class 10 out of 10\n"
     ]
    }
   ],
   "source": [
    "#running this takes a long time, only do it after set.csv is fixed\n",
    "dict = {}\n",
    "print(f\"Total number of classes {n}\")\n",
    "print(\"Start Transfer Learning Section: AlexNet feature extract for each class\")\n",
    "iterCount = 1\n",
    "\n",
    "for key, images in mapping.items():\n",
    "    if iterCount > n:\n",
    "        break\n",
    "    print(f\"Class {iterCount} out of {n}\")\n",
    "    dict[key] = []\n",
    "    for img in images:\n",
    "        newImg = Image.open(img)\n",
    "        newImg = transform(newImg)\n",
    "        feat = alexnet.features(newImg)\n",
    "        dict[key].append(feat)\n",
    "    iterCount += 1\n"
   ]
  },
  {
   "cell_type": "code",
   "execution_count": 14,
   "metadata": {},
   "outputs": [
    {
     "name": "stdout",
     "output_type": "stream",
     "text": [
      "10\n"
     ]
    }
   ],
   "source": [
    "#change from str key to numerical key\n",
    "mappingStrToInt = {idx: value for idx, (key, value) in enumerate(dict.items())}\n",
    "print(len(mappingStrToInt))"
   ]
  },
  {
   "cell_type": "code",
   "execution_count": 15,
   "metadata": {},
   "outputs": [
    {
     "name": "stdout",
     "output_type": "stream",
     "text": [
      "10\n"
     ]
    }
   ],
   "source": [
    "#numerical dictionary\n",
    "numericalDict = {}\n",
    "for idx, (key, value) in enumerate(dict.items()):\n",
    "    numericalDict[idx] = value\n",
    "print(len(numericalDict))"
   ]
  },
  {
   "cell_type": "code",
   "execution_count": 16,
   "metadata": {},
   "outputs": [
    {
     "name": "stdout",
     "output_type": "stream",
     "text": [
      "Running data dictionary\n",
      "Complete Running Data Dictionary\n"
     ]
    }
   ],
   "source": [
    "# Split data into training, validation, and testing sets\n",
    "tData, tLabel = [], []\n",
    "vData, vLabel = [], []\n",
    "testingData, testingLabel = [], []\n",
    "\n",
    "print(\"Running data dictionary\")\n",
    "numIter = 1\n",
    "#0.75 training, 0.15 valdiation, 0.10 for testing\n",
    "for key, values in numericalDict.items():\n",
    "    if numIter > n:\n",
    "        break\n",
    "    numTrain = int(len(values) * 0.75)\n",
    "    numVal = int(len(values) * 0.15)\n",
    "\n",
    "    tLabel.extend([key] * numTrain)\n",
    "    vLabel.extend([key] * numVal)\n",
    "    testingLabel.extend([key] * (len(values) - numTrain - numVal))\n",
    "\n",
    "    tData.extend(values[:numTrain])\n",
    "    vData.extend(values[numTrain:numTrain + numVal])\n",
    "    testingData.extend(values[numTrain + numVal:])\n",
    "\n",
    "    numIter += 1\n",
    "print(\"Complete Running Data Dictionary\")\n",
    "tTensor = torch.stack(tData)\n",
    "vTensor = torch.stack(vData)\n",
    "testingTensor = torch.stack(testingData)\n",
    "\n",
    "tLabelTensor = torch.tensor(tLabel)\n",
    "vLabelTensor = torch.tensor(vLabel)\n",
    "testingLabelTensor = torch.tensor(testingLabel)\n",
    "\n",
    "train_set = TensorDataset(tTensor, tLabelTensor)\n",
    "validation_set = TensorDataset(vTensor, vLabelTensor)\n",
    "test_set = TensorDataset(testingTensor, testingLabelTensor)"
   ]
  },
  {
   "cell_type": "code",
   "execution_count": 17,
   "metadata": {},
   "outputs": [
    {
     "name": "stdout",
     "output_type": "stream",
     "text": [
      "tTensor shape: torch.Size([9236, 256, 6, 6])\n",
      "vTensor shape: torch.Size([1842, 256, 6, 6])\n",
      "testingTensor shape: torch.Size([1238, 256, 6, 6])\n"
     ]
    }
   ],
   "source": [
    "print(f'tTensor shape: {tTensor.shape}')\n",
    "print(f'vTensor shape: {vTensor.shape}')\n",
    "print(f'testingTensor shape: {testingTensor.shape}')"
   ]
  },
  {
   "cell_type": "code",
   "execution_count": 18,
   "metadata": {},
   "outputs": [
    {
     "name": "stdout",
     "output_type": "stream",
     "text": [
      "9236\n",
      "1842\n",
      "1238\n"
     ]
    }
   ],
   "source": [
    "#testing if train, validation, and test sets work\n",
    "print(len(train_set))\n",
    "print(len(validation_set))\n",
    "print(len(test_set))"
   ]
  },
  {
   "cell_type": "code",
   "execution_count": 19,
   "metadata": {},
   "outputs": [],
   "source": [
    "#save the pt files\n",
    "torch.save(train_set, 'Atrain_set.pt')\n",
    "torch.save(validation_set, 'Avalidation_set.pt')\n",
    "torch.save(test_set, 'Atest_set.pt')"
   ]
  },
  {
   "cell_type": "markdown",
   "metadata": {},
   "source": [
    "AT THIS POINT TENSOR IS SAVED!!!! \n",
    "\n",
    "TRAIN DIRECTLY USING V2LoadTrain.ipynb IN THE FUTURE"
   ]
  },
  {
   "cell_type": "markdown",
   "metadata": {},
   "source": [
    "Data Loading"
   ]
  },
  {
   "cell_type": "code",
   "execution_count": 20,
   "metadata": {},
   "outputs": [],
   "source": [
    "#customized data_loading function with variable batch size\n",
    "import torch\n",
    "def dataLoadFunction(BatchSize):\n",
    "  train_load = torch.utils.data.DataLoader(train_set, batch_size = BatchSize, shuffle=True)\n",
    "  validation_load = torch.utils.data.DataLoader(validation_set, batch_size = BatchSize)\n",
    "  testing_load = torch.utils.data.DataLoader(test_set, batch_size = BatchSize)\n",
    "  return train_load, validation_load, testing_load"
   ]
  },
  {
   "cell_type": "markdown",
   "metadata": {},
   "source": [
    "Training code"
   ]
  },
  {
   "cell_type": "code",
   "execution_count": 49,
   "metadata": {},
   "outputs": [],
   "source": [
    "def getValidationLoss(net, validation_loader, criterion):\n",
    "  totalLoss = 0\n",
    "  count = 0\n",
    "  for data in validation_loader:\n",
    "    inputs, labels = data\n",
    "    outputs = net(inputs)\n",
    "    loss = criterion(outputs, labels)\n",
    "    totalLoss += loss.item()\n",
    "    count += inputs.size(0)\n",
    "  totalLoss = totalLoss / count\n",
    "  return totalLoss\n",
    "\n",
    "\n",
    "#model name\n",
    "def get_model_name(name, batch_size, lr, epoch):\n",
    "    path = \"modelStorage/model_{0}_bs{1}_lr{2}_epoch{3}\".format(name, batch_size, lr, epoch)\n",
    "    return path\n",
    "\n",
    "#plotting helper function\n",
    "import matplotlib.pyplot as plt\n",
    "#plot image function\n",
    "#modified from lab 2\n",
    "def plot_training_curve(path):\n",
    "    train_loss = np.loadtxt(\"{}_train_loss.csv\".format(path))\n",
    "    val_loss = np.loadtxt(\"{}_val_loss.csv\".format(path))\n",
    "    n = len(train_loss)\n",
    "    #plot model\n",
    "    plt.title(\"Train vs Validation Loss\")\n",
    "    plt.plot(range(1,n+1), train_loss, label=\"Train\")\n",
    "    plt.plot(range(1,n+1), val_loss, label=\"Validation\")\n",
    "    plt.xlabel(\"Epoch\")\n",
    "    plt.ylabel(\"Loss\")\n",
    "    plt.legend(loc='best')\n",
    "    plt.show()"
   ]
  },
  {
   "cell_type": "code",
   "execution_count": 45,
   "metadata": {},
   "outputs": [],
   "source": [
    "import time"
   ]
  },
  {
   "cell_type": "code",
   "execution_count": 53,
   "metadata": {},
   "outputs": [],
   "source": [
    "def train_net_TL(net, batchsize=24, learning_rate=0.007, num_epochs=12, weight_decay=0): #values here are defaults, should* be overwritten when called\n",
    "\n",
    "  torch.manual_seed(1)\n",
    "\n",
    "  criterion = nn.CrossEntropyLoss()\n",
    "  optimizer = optim.SGD(net.parameters(), lr=learning_rate, momentum=0.8, weight_decay = weight_decay)\n",
    "\n",
    "  training_loader, validation_loader, _ = dataLoadFunction(batchsize)\n",
    "\n",
    "  train_loss_graph = np.zeros(num_epochs)\n",
    "  val_loss_graph = np.zeros(num_epochs)\n",
    "\n",
    "  n = len(training_loader)\n",
    "  startTime = time.time()\n",
    "  for currepoch in range(num_epochs):\n",
    "    #print(\"New epoch\")\n",
    "    trainLoss = 0\n",
    "    net.train()\n",
    "    for i, (inputs, labels) in enumerate(training_loader):\n",
    "      optimizer.zero_grad()\n",
    "\n",
    "      inputs = torch.tensor(inputs.detach().numpy()).to(inputs.device)\n",
    "      outputs = net(inputs)\n",
    "\n",
    "      loss = criterion(outputs, labels)\n",
    "      loss.backward()\n",
    "      optimizer.step()\n",
    "      trainLoss += loss.item()\n",
    "\n",
    "    #print(\"Onto validation\")\n",
    "    net.eval()\n",
    "    train_loss_graph[currepoch] = trainLoss/n\n",
    "    val_loss_graph[currepoch] = getValidationLoss(net, validation_loader, criterion)\n",
    "    if (currepoch % 5 == 0):\n",
    "      print(f\"Epoch: {currepoch} Training Loss: {train_loss_graph[currepoch]:.6f}, Validation Loss: {val_loss_graph[currepoch]:.6f}, Time: {time.time() - startTime:.2f} seconds\")\n",
    "      model_path = get_model_name(net.name, batchsize, learning_rate, currepoch)\n",
    "      torch.save(net.state_dict(), model_path)\n",
    "      np.savetxt(\"{}_train_loss.csv\".format(model_path), train_loss_graph)\n",
    "      np.savetxt(\"{}_val_loss.csv\".format(model_path), val_loss_graph)\n",
    "  print(\"Total time: \", time.time()-startTime)\n",
    "\n",
    "  path = \"modelStorage/model_{0}_bs{1}_lr{2}_epoch{3}\".format(net.name, batchsize, learning_rate, num_epochs)\n",
    "  np.savetxt(\"{}_train_loss.csv\".format(path), train_loss_graph)\n",
    "  np.savetxt(\"{}_val_loss.csv\".format(path), val_loss_graph)"
   ]
  },
  {
   "cell_type": "markdown",
   "metadata": {},
   "source": [
    "Training here"
   ]
  },
  {
   "cell_type": "code",
   "execution_count": 47,
   "metadata": {},
   "outputs": [],
   "source": [
    "#global variabls - so you don't have to modify them everywhere\n",
    "BATCH_SIZE = 36\n",
    "NUM_EPOCHS = 21\n",
    "LEARNING_RATE = 0.007\n",
    "\n",
    "#With Weight Decay\n",
    "WEIGHTDECAY = 0.001"
   ]
  },
  {
   "cell_type": "code",
   "execution_count": 54,
   "metadata": {},
   "outputs": [
    {
     "name": "stdout",
     "output_type": "stream",
     "text": [
      "Epoch: 0 Training Loss: 1.025558, Validation Loss: 0.014415, Time: 2.81 seconds\n",
      "Epoch: 5 Training Loss: 0.036667, Validation Loss: 0.011926, Time: 33.18 seconds\n",
      "Epoch: 10 Training Loss: 0.014488, Validation Loss: 0.013110, Time: 70.17 seconds\n",
      "Epoch: 15 Training Loss: 0.003944, Validation Loss: 0.013497, Time: 103.75 seconds\n",
      "Epoch: 20 Training Loss: 0.001806, Validation Loss: 0.014007, Time: 131.33 seconds\n",
      "Total time:  131.36118340492249\n"
     ]
    }
   ],
   "source": [
    "net3TL = preLearnedFungaV1()\n",
    "train_net_TL(net3TL, batchsize=BATCH_SIZE, num_epochs=NUM_EPOCHS)\n",
    "\n",
    "#with weight decay: train_net_TL(net3TL, batchsize=BATCH_SIZE, num_epochs=NUM_EPOCHS, weight_decay=WEIGHTDECAY)"
   ]
  },
  {
   "cell_type": "code",
   "execution_count": 57,
   "metadata": {},
   "outputs": [
    {
     "data": {
      "image/png": "[encoded data removed]",
      "text/plain": [
       "<Figure size 640x480 with 1 Axes>"
      ]
     },
     "metadata": {},
     "output_type": "display_data"
    }
   ],
   "source": [
    "#plot curve here\n",
    "plot_training_curve(\"modelStorage/model_{0}_bs{1}_lr{2}_epoch{3}\".format(\"fungaV1\", BATCH_SIZE, LEARNING_RATE, 20))"
   ]
  },
  {
   "cell_type": "markdown",
   "metadata": {},
   "source": [
    "Test model"
   ]
  },
  {
   "cell_type": "code",
   "execution_count": 58,
   "metadata": {},
   "outputs": [],
   "source": [
    "#test accuracy function\n",
    "def getAccuracy(net, loader):\n",
    "  correct, count = 0, 0\n",
    "  net.eval()\n",
    "  #no gradient modification\n",
    "  with torch.no_grad():\n",
    "    print(\"Total number of batches: \", len(loader))\n",
    "    for currbatch, (i, corr) in enumerate(loader):\n",
    "      count += corr.shape[0]\n",
    "      print(\"CurrBatch: \", currbatch+1)\n",
    "\n",
    "      correct += (torch.max(net(i), 1)[1] == corr).sum().item()\n",
    "\n",
    "  return correct / count"
   ]
  },
  {
   "cell_type": "code",
   "execution_count": 60,
   "metadata": {},
   "outputs": [
    {
     "name": "stdout",
     "output_type": "stream",
     "text": [
      "Total number of batches:  52\n",
      "CurrBatch:  1\n",
      "CurrBatch:  2\n",
      "CurrBatch:  3\n",
      "CurrBatch:  4\n",
      "CurrBatch:  5\n",
      "CurrBatch:  6\n",
      "CurrBatch:  7\n",
      "CurrBatch:  8\n",
      "CurrBatch:  9\n",
      "CurrBatch:  10\n",
      "CurrBatch:  11\n",
      "CurrBatch:  12\n",
      "CurrBatch:  13\n",
      "CurrBatch:  14\n",
      "CurrBatch:  15\n",
      "CurrBatch:  16\n",
      "CurrBatch:  17\n",
      "CurrBatch:  18\n",
      "CurrBatch:  19\n",
      "CurrBatch:  20\n",
      "CurrBatch:  21\n",
      "CurrBatch:  22\n",
      "CurrBatch:  23\n",
      "CurrBatch:  24\n",
      "CurrBatch:  25\n",
      "CurrBatch:  26\n",
      "CurrBatch:  27\n",
      "CurrBatch:  28\n",
      "CurrBatch:  29\n",
      "CurrBatch:  30\n",
      "CurrBatch:  31\n",
      "CurrBatch:  32\n",
      "CurrBatch:  33\n",
      "CurrBatch:  34\n",
      "CurrBatch:  35\n",
      "CurrBatch:  36\n",
      "CurrBatch:  37\n",
      "CurrBatch:  38\n",
      "CurrBatch:  39\n",
      "CurrBatch:  40\n",
      "CurrBatch:  41\n",
      "CurrBatch:  42\n",
      "CurrBatch:  43\n",
      "CurrBatch:  44\n",
      "CurrBatch:  45\n",
      "CurrBatch:  46\n",
      "CurrBatch:  47\n",
      "CurrBatch:  48\n",
      "CurrBatch:  49\n",
      "CurrBatch:  50\n",
      "CurrBatch:  51\n",
      "CurrBatch:  52\n",
      "Test Classification Accuracy:  0.8683360258481422\n"
     ]
    }
   ],
   "source": [
    "\n",
    "bestNet = preLearnedFungaV1()\n",
    "model_path = get_model_name(\"fungaV1\", batch_size=BATCH_SIZE, lr=LEARNING_RATE, epoch=(15))\n",
    "state = torch.load(model_path)\n",
    "bestNet.load_state_dict(state)\n",
    "\n",
    "_,_, testLoad = dataLoadFunction(24)\n",
    "\n",
    "dataLoad = testLoad\n",
    "\n",
    "accuracy = getAccuracy(bestNet, dataLoad)\n",
    "print(\"Test Classification Accuracy: \", accuracy)"
   ]
  }
 ],
 "metadata": {
  "kernelspec": {
   "display_name": "Python 3",
   "language": "python",
   "name": "python3"
  },
  "language_info": {
   "codemirror_mode": {
    "name": "ipython",
    "version": 3
   },
   "file_extension": ".py",
   "mimetype": "text/x-python",
   "name": "python",
   "nbconvert_exporter": "python",
   "pygments_lexer": "ipython3",
   "version": "3.12.1"
  }
 },
 "nbformat": 4,
 "nbformat_minor": 2
}

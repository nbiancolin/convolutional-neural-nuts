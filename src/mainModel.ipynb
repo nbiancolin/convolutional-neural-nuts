{
 "cells": [
  {
   "cell_type": "markdown",
   "metadata": {},
   "source": [
    "Main Body Architecture Consists of 2 parts\n",
    "    1. Convolutional Layers - Use kernels to extract useful features\n",
    "    2. Fully Connected (FC) Layers  - using features to classify images\n"
   ]
  },
  {
   "cell_type": "code",
   "execution_count": null,
   "metadata": {
    "vscode": {
     "languageId": "plaintext"
    }
   },
   "outputs": [],
   "source": [
    "print(\"Hello World\")"
   ]
  }
 ],
 "metadata": {
  "language_info": {
   "name": "python"
  }
 },
 "nbformat": 4,
 "nbformat_minor": 2
}

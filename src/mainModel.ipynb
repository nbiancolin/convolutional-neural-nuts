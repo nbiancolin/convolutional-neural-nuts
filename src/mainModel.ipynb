{
 "cells": [
  {
   "cell_type": "markdown",
   "metadata": {},
   "source": [
    "Main Body Architecture Consists of 2 parts\n",
    "- Convolutional Layers - extract useful features\n",
    "- Fully Connected (FC) Layers  - using features to classify images\n",
    "\n",
    "Use YoloV10's backbone as the pretrained model for first part of convolutional layer. \n",
    "- Choose not to freeeze the weights as part of the fine tuning process (might freeze due to time)\n",
    "- Utilize our own custom made training function due to added layers"
   ]
  },
  {
   "cell_type": "markdown",
   "metadata": {},
   "source": [
    "Initalize Pytorch and YoloV10"
   ]
  },
  {
   "cell_type": "code",
   "execution_count": 1,
   "metadata": {},
   "outputs": [
    {
     "data": {
      "text/plain": [
       "'\\n#Torch\\nimport torch\\n#verify torch is installed\\nprint(torch.__version__)\\nimport torch.nn as nn \\nimport torch.nn.functional as F \\nimport matplotlib.pyplot as plt \\nimport torch.optim as optim  \\n\\n#YoloV10\\nfrom ultralytics import YoloV10\\n\\n#might not be used\\nimport torchvision.transforms as transforms\\n\\n#set random seed \\ntorch.manual_seed(1)\\n'"
      ]
     },
     "execution_count": 1,
     "metadata": {},
     "output_type": "execute_result"
    }
   ],
   "source": [
    "#Torch\n",
    "import torch\n",
    "#verify torch is installed\n",
    "print(torch.__version__)\n",
    "import torch.nn as nn \n",
    "import torch.nn.functional as F \n",
    "import matplotlib.pyplot as plt \n",
    "import torch.optim as optim  \n",
    "\n",
    "#YoloV10\n",
    "from ultralytics import YoloV10\n",
    "\n",
    "#might not be used\n",
    "import torchvision.transforms as transforms\n",
    "\n",
    "#set random seed \n",
    "torch.manual_seed(1)"
   ]
  },
  {
   "cell_type": "markdown",
   "metadata": {},
   "source": [
    "Create Neural Network Data Structure\n",
    "- Use freezed YoloV10 backbone along with 2 added layers for convolution part\n",
    "- Own Customized fully connected layers"
   ]
  },
  {
   "cell_type": "code",
   "execution_count": null,
   "metadata": {},
   "outputs": [],
   "source": [
    "class mushRoom(nn.Modulo):\n",
    "    def __init__(self, numCategory):\n",
    "        super(mushRoom, self).__init__()\n",
    "        #yoloV10 backbone\n",
    "        self.YOLObackbone = YOLOv10.from_pretrained('jameslahm/yolov10n')\n",
    "        for param in self.yolov10.parameters():\n",
    "            param.requires_grad = False  #comment out this line for fine tuning\n",
    "            #right now the backbone just takes default values, not traiend\n",
    "\n",
    "        self.pool = nn.MaxPool2d(2,2)\n",
    "        self.conv1 = nn.Conv2d(2048, 1028, 3)\n",
    "        self.conv2 = nn.Conv2d(1028, 512, 3)\n",
    "\n",
    "        self.fc1 = nn.Linear(512, 128)\n",
    "        self.fc2 = nn.Linear(128, 64)\n",
    "        #assume 32 is the number of classes for now\n",
    "        self.fc3 = nn.Linear(64, 32)\n",
    "\n",
    "    def forward(self, x):\n",
    "        #double check if the function name is called backbone\n",
    "        #could be called backend\n",
    "        #\n",
    "        x = self.yolov10.backbone(x)\n",
    "        x = self.pool(F.relu(self.conv1))\n",
    "        x = self.pool(F.relu(self.conv2))\n",
    "\n",
    "        x = x.view(-1, 512)\n",
    "        x = F.relu(self.fc1(x))\n",
    "        x = F.relu(self.fc2(x))\n",
    "        x = self.fc3(x)\n",
    "        return x"
   ]
  },
  {
   "cell_type": "markdown",
   "metadata": {},
   "source": [
    "Extract CSV File"
   ]
  },
  {
   "cell_type": "code",
   "execution_count": null,
   "metadata": {},
   "outputs": [],
   "source": [
    "#extract info from csv file\n",
    "numCategoryv = 10"
   ]
  },
  {
   "cell_type": "markdown",
   "metadata": {},
   "source": [
    "Training Function\n",
    "- "
   ]
  }
 ],
 "metadata": {
  "kernelspec": {
   "display_name": "Python 3",
   "language": "python",
   "name": "python3"
  },
  "language_info": {
   "codemirror_mode": {
    "name": "ipython",
    "version": 3
   },
   "file_extension": ".py",
   "mimetype": "text/x-python",
   "name": "python",
   "nbconvert_exporter": "python",
   "pygments_lexer": "ipython3",
   "version": "3.12.1"
  }
 },
 "nbformat": 4,
 "nbformat_minor": 2
}
